{
  "nbformat": 4,
  "nbformat_minor": 0,
  "metadata": {
    "colab": {
      "name": "Scraper un groupe facebook avec google colab et pyquery.ipynb",
      "provenance": [],
      "collapsed_sections": [],
      "authorship_tag": "ABX9TyNrxYu49KTpfqNasbsY+TBv",
      "include_colab_link": true
    },
    "kernelspec": {
      "name": "python3",
      "display_name": "Python 3"
    }
  },
  "cells": [
    {
      "cell_type": "markdown",
      "metadata": {
        "id": "view-in-github",
        "colab_type": "text"
      },
      "source": [
        "<a href=\"https://colab.research.google.com/github/edubaschool/Growth-Hacking-101/blob/master/Scraper_un_groupe_facebook_avec_google_colab_et_pyquery.ipynb\" target=\"_parent\"><img src=\"https://colab.research.google.com/assets/colab-badge.svg\" alt=\"Open In Colab\"/></a>"
      ]
    },
    {
      "cell_type": "markdown",
      "metadata": {
        "id": "ri22442x4Wbd",
        "colab_type": "text"
      },
      "source": [
        "SCRAPER UN GROUPE FACEBOOK AVEC COLAB\n"
      ]
    },
    {
      "cell_type": "markdown",
      "metadata": {
        "id": "BgLV_oj2U7fL",
        "colab_type": "text"
      },
      "source": [
        "# 1 - CONNECTER SON DRIVE"
      ]
    },
    {
      "cell_type": "code",
      "metadata": {
        "id": "TAxxuXwtO3w-",
        "colab_type": "code",
        "outputId": "1019eea8-1389-4319-f17a-fd29fabeaa16",
        "colab": {
          "base_uri": "https://localhost:8080/",
          "height": 124
        }
      },
      "source": [
        "from google.colab import drive\n",
        "drive.mount(\"/content/gdrive\")"
      ],
      "execution_count": 0,
      "outputs": [
        {
          "output_type": "stream",
          "text": [
            "Go to this URL in a browser: https://accounts.google.com/o/oauth2/auth?client_id=947318989803-6bn6qk8qdgf4n4g3pfee6491hc0brc4i.apps.googleusercontent.com&redirect_uri=urn%3aietf%3awg%3aoauth%3a2.0%3aoob&response_type=code&scope=email%20https%3a%2f%2fwww.googleapis.com%2fauth%2fdocs.test%20https%3a%2f%2fwww.googleapis.com%2fauth%2fdrive%20https%3a%2f%2fwww.googleapis.com%2fauth%2fdrive.photos.readonly%20https%3a%2f%2fwww.googleapis.com%2fauth%2fpeopleapi.readonly\n",
            "\n",
            "Enter your authorization code:\n",
            "··········\n",
            "Mounted at /content/gdrive\n"
          ],
          "name": "stdout"
        }
      ]
    },
    {
      "cell_type": "markdown",
      "metadata": {
        "id": "ZIbSTY3kVSsg",
        "colab_type": "text"
      },
      "source": [
        "# 2 - Aller dans le bon dossier"
      ]
    },
    {
      "cell_type": "code",
      "metadata": {
        "id": "moXDVCHnOrvO",
        "colab_type": "code",
        "outputId": "391ff174-5eeb-4c8c-c929-d76c6ccf2fef",
        "colab": {
          "base_uri": "https://localhost:8080/",
          "height": 34
        }
      },
      "source": [
        "ls"
      ],
      "execution_count": 0,
      "outputs": [
        {
          "output_type": "stream",
          "text": [
            "data.csv  \u001b[0m\u001b[01;34msample_data\u001b[0m/\n"
          ],
          "name": "stdout"
        }
      ]
    },
    {
      "cell_type": "code",
      "metadata": {
        "id": "ALl7SYMPSzqi",
        "colab_type": "code",
        "outputId": "f5d064e0-d140-43d4-869d-399c9cadfcaa",
        "colab": {
          "base_uri": "https://localhost:8080/",
          "height": 34
        }
      },
      "source": [
        "cd gdrive"
      ],
      "execution_count": 0,
      "outputs": [
        {
          "output_type": "stream",
          "text": [
            "/content/gdrive\n"
          ],
          "name": "stdout"
        }
      ]
    },
    {
      "cell_type": "code",
      "metadata": {
        "id": "06hmIBoAS9VK",
        "colab_type": "code",
        "outputId": "b64fc18d-3f04-4f12-b975-1af49724ca92",
        "colab": {
          "base_uri": "https://localhost:8080/",
          "height": 34
        }
      },
      "source": [
        "cd My\\ Drive #ICI DOSSIER PRINCIPAL"
      ],
      "execution_count": 0,
      "outputs": [
        {
          "output_type": "stream",
          "text": [
            "/content/gdrive/My Drive\n"
          ],
          "name": "stdout"
        }
      ]
    },
    {
      "cell_type": "markdown",
      "metadata": {
        "id": "FCmniB1XW1tp",
        "colab_type": "text"
      },
      "source": [
        "# 3 - Copier le html dans une variable HTML"
      ]
    },
    {
      "cell_type": "code",
      "metadata": {
        "id": "EurHSoJw1LCd",
        "colab_type": "code",
        "colab": {}
      },
      "source": [
        "html = \"\"\"<ul class=\"uiList clearfix _5bbv _4kg _704 _4ks\">\n",
        "    <div class=\"clearfix _60rh _gse\" id=\"all_members_100004497343792\" data-ft=\"{&quot;tn&quot;:&quot;-_&quot;}\" data-name=\"GroupProfileGridItem\" data-testid=\"GroupMember_100004497343792\">\n",
        "        <a class=\"_60rg _8o _8r lfloat _ohe\" ajaxify=\"/groups/member/?group_id=322855534791779&amp;member_id=100004497343792&amp;ref=MEMBER_LIST\" rel=\"dialog\" title=\"Mikaël Monjour\" tabindex=\"-1\" aria-hidden=\"true\" href=\"https://www.facebook.com/mikael.monjour?fref=gm&amp;__tn__=%2Cd-_-R&amp;eid=ARCeQhUgWuS-cHfGsfyXoyQnlA1b_rFz1opgRN1XfoxTKWRY8VTskQDSIjXY3163vNF4ve4PcV0XqGqu&amp;dti=322855534791779&amp;hc_location=group\" data-hovercard=\"/ajax/hovercard/user.php?id=100004497343792&amp;extragetparams=%7B%22__tn__%22%3A%22%2Cd-_-R%22%2C%22eid%22%3A%22ARCeQhUgWuS-cHfGsfyXoyQnlA1b_rFz1opgRN1XfoxTKWRY8VTskQDSIjXY3163vNF4ve4PcV0XqGqu%22%2C%22fref%22%3A%22gm%22%2C%22directed_target_id%22%3A322855534791779%2C%22dti%22%3A322855534791779%2C%22hc_location%22%3A%22group%22%7D\" data-hovercard-prefer-more-content-show=\"1\" role=\"button\"><img class=\"_s0 _4ooo img\" src=\"https://scontent-cdg2-1.xx.fbcdn.net/v/t1.0-1/cp0/p74x74/48371477_1180080845485149_2577301250311716864_n.jpg?_nc_cat=110&amp;_nc_sid=dbb9e7&amp;_nc_oc=AQnKz2u6npVDR93muzzIJAQvZ_wyT6pu83y6FvrZ0wuYkjdH2vGv1Ernjk7sv4-de-JW_Um5eG6Mt0AoNRykiTdX&amp;_nc_ht=scontent-cdg2-1.xx&amp;oh=74e54c1df8d42b31e55ec3ef5fb5fd27&amp;oe=5E995AFE\" alt=\"\" aria-label=\"Mikaël Monjour\" role=\"img\" style=\"width:72px;height:72px\"></a>\n",
        "        <div class=\"clearfix _8u _42ef\">\n",
        "            <div class=\"_6a rfloat _ohf\">\n",
        "                <div class=\"_6a _6b\" style=\"height:72px\"></div>\n",
        "                <div class=\"_6a _6b\">\n",
        "                    <div class=\"clearfix _4eo_\">\n",
        "                        <div class=\"lfloat _ohe\"></div>\n",
        "                        <div class=\"rfloat _ohf\"><span id=\"resendInvite_100004497343792\"><div class=\"_6a _6b uiPopover\" id=\"u_0_3b\"><button value=\"1\" class=\"_42ft _4jy0 _62qi _60rl _p _4jy3 _517h _51sy\" aria-label=\"Member Settings\" data-testid=\"admin_action_menu_button-all_members-100004497343792\" aria-haspopup=\"true\" aria-expanded=\"false\" type=\"submit\" id=\"u_0_3c\" role=\"button\"><i class=\"img sp_yKIerHEVDxg sx_0b6344\"><u>3-dots-h</u></i></button></div></span></div>\n",
        "                    </div>\n",
        "                </div>\n",
        "            </div>\n",
        "            <div class=\"uiProfileBlockContent _61ce\">\n",
        "                <div class=\"_6a\">\n",
        "                    <div class=\"_6a _6b\" style=\"height:72px\"></div>\n",
        "                    <div class=\"_6a _6b\">\n",
        "                        <div class=\"_60ri\"><a ajaxify=\"/groups/member/?group_id=322855534791779&amp;member_id=100004497343792&amp;ref=MEMBER_LIST\" rel=\"dialog\" title=\"Mikaël Monjour\" href=\"https://www.facebook.com/mikael.monjour?fref=gm&amp;__tn__=%2Cd-_-R&amp;eid=ARD916GZPVAAfu3vG7Slb-RD58iBVmZQc2PsdWWJ19ghUP9THz6JGoQeYeZvbIT-6TMm_udxgbcNwJ0Z&amp;dti=322855534791779&amp;hc_location=group\" data-hovercard=\"/ajax/hovercard/user.php?id=100004497343792&amp;extragetparams=%7B%22__tn__%22%3A%22%2Cd-_-R%22%2C%22eid%22%3A%22ARD916GZPVAAfu3vG7Slb-RD58iBVmZQc2PsdWWJ19ghUP9THz6JGoQeYeZvbIT-6TMm_udxgbcNwJ0Z%22%2C%22fref%22%3A%22gm%22%2C%22directed_target_id%22%3A322855534791779%2C%22dti%22%3A322855534791779%2C%22hc_location%22%3A%22group%22%7D\" data-hovercard-prefer-more-content-show=\"1\" role=\"button\">Mikaël Monjour</a></div><span><span><a ajaxify=\"/groups/member_bio/bio_dialog/?group_id=322855534791779&amp;member_id=100004497343792&amp;ref=MEMBER_LIST\" aria-label=\"Group member list\" class=\"f4bffpk3 c61n2bf6\" href=\"/groups/322855534791779/badge_member_list/?badge_type=ADMIN\" rel=\"dialog\" id=\"js_8p\" aria-controls=\"js_8q\" aria-haspopup=\"true\"><span><i class=\"cv5aopd8 bq6c9xl4 w9qc3v22 l3gxykhd img sp_Gn9AZ1U4KqF sx_5c5400\" alt=\"\"></i><span class=\"igjjae4c glosn74e f2jdl7fy cxfqmxzd\">Admin</span></span>\n",
        "                        </a>\n",
        "                        </span>\n",
        "                        <!-- react-mount-point-unstable -->\n",
        "                        </span>\n",
        "                        <div><a href=\"https://www.facebook.com/mikael.monjour?fref=gm&amp;dti=322855534791779&amp;hc_location=group\" ajaxify=\"/groups/member/?group_id=322855534791779&amp;member_id=100004497343792&amp;ref=MEMBER_LIST\" rel=\"dialog\" title=\"Mikaël Monjour\" role=\"button\">View 5 recent posts</a></div>\n",
        "                        <div class=\"_60rj\">Created group on September 22, 2017</div>\n",
        "                        <div class=\"_60rj\">Works at Auto-entrepreneur</div>\n",
        "                    </div>\n",
        "                </div>\n",
        "            </div>\n",
        "        </div>\n",
        "    </div>\n",
        "    <div class=\"clearfix _60rh _gse\" id=\"all_members_100024900753255\" data-ft=\"{&quot;tn&quot;:&quot;-_&quot;}\" data-name=\"GroupProfileGridItem\" data-testid=\"GroupMember_100024900753255\">\n",
        "        <a class=\"_60rg _8o _8r lfloat _ohe\" ajaxify=\"/groups/member/?group_id=322855534791779&amp;member_id=100024900753255&amp;ref=MEMBER_LIST\" rel=\"dialog\" title=\"Fabien David\" tabindex=\"-1\" aria-hidden=\"true\" href=\"https://www.facebook.com/fabien.david.37017?fref=gm&amp;__tn__=%2Cd-_-R&amp;eid=ARDUn-2oj-n7DBtJm1uCwWKum5fEuFoOFCCyiZGf9dlP6UuABbDvAFSvMZihjH1lFfbbwqPs_6EwdX-_&amp;dti=322855534791779&amp;hc_location=group\" data-hovercard=\"/ajax/hovercard/user.php?id=100024900753255&amp;extragetparams=%7B%22__tn__%22%3A%22%2Cd-_-R%22%2C%22eid%22%3A%22ARDUn-2oj-n7DBtJm1uCwWKum5fEuFoOFCCyiZGf9dlP6UuABbDvAFSvMZihjH1lFfbbwqPs_6EwdX-_%22%2C%22fref%22%3A%22gm%22%2C%22directed_target_id%22%3A322855534791779%2C%22dti%22%3A322855534791779%2C%22hc_location%22%3A%22group%22%7D\" data-hovercard-prefer-more-content-show=\"1\" role=\"button\"><img class=\"_s0 _4ooo img\" src=\"https://scontent-cdg2-1.xx.fbcdn.net/v/t1.0-1/cp0/p74x74/89996042_641060763400610_3411054659886907392_n.jpg?_nc_cat=100&amp;_nc_sid=dbb9e7&amp;_nc_oc=AQmzV-t7eGHCBcvOj2OGr5gA5K-yk5TJQk5S3JUXoQvVOBiPkVAF0LXvJbeMVTepiWcK1Xc4EHT4iIKOe6U-vqCP&amp;_nc_ht=scontent-cdg2-1.xx&amp;oh=add4276cc2eed761d3280332b4f8e148&amp;oe=5E9B2846\" alt=\"\" aria-label=\"Fabien David\" role=\"img\" style=\"width:72px;height:72px\"></a>\n",
        "        <div class=\"clearfix _8u _42ef\">\n",
        "            <div class=\"_6a rfloat _ohf\">\n",
        "                <div class=\"_6a _6b\" style=\"height:72px\"></div>\n",
        "                <div class=\"_6a _6b\">\n",
        "                    <div class=\"clearfix _4eo_\">\n",
        "                        <div class=\"lfloat _ohe\"><a role=\"button\" class=\"_42ft _4jy0 _4jy3 _517h _51sy\" href=\"/messages/t/fabien.david.37017/\" ajaxify=\"/ajax/messaging/composer.php?ids%5B0%5D=100024900753255&amp;ref=gml\" rel=\"dialog\" id=\"u_0_3e\"><i class=\"_3-8_ img sp_CCm7xfUVq_I sx_aecd3d\"></i>Message</a></div>\n",
        "                        <div class=\"rfloat _ohf\"><span id=\"resendInvite_100024900753255\"><div class=\"_6a _6b uiPopover\" id=\"u_0_3f\"><button value=\"1\" class=\"_42ft _4jy0 _62qi _60rl _p _4jy3 _517h _51sy\" aria-label=\"Member Settings\" data-testid=\"admin_action_menu_button-all_members-100024900753255\" aria-haspopup=\"true\" aria-expanded=\"false\" type=\"submit\" id=\"u_0_3g\" role=\"button\"><i class=\"img sp_yKIerHEVDxg sx_0b6344\"><u>3-dots-h</u></i></button></div></span></div>\n",
        "                    </div>\n",
        "                </div>\n",
        "            </div>\n",
        "            <div class=\"uiProfileBlockContent _61ce\">\n",
        "                <div class=\"_6a\">\n",
        "                    <div class=\"_6a _6b\" style=\"height:72px\"></div>\n",
        "                    <div class=\"_6a _6b\">\n",
        "                        <div class=\"_60ri\"><a ajaxify=\"/groups/member/?group_id=322855534791779&amp;member_id=100024900753255&amp;ref=MEMBER_LIST\" rel=\"dialog\" title=\"Fabien David\" href=\"https://www.facebook.com/fabien.david.37017?fref=gm&amp;__tn__=%2Cd-_-R&amp;eid=ARCc9TkNzcn5S2-mSj7sU1TPKh4m1WRU1PQOWzitV-_NXSEXCO7EaqDOWF0DP42GK7YbCrK2U3xdgzFy&amp;dti=322855534791779&amp;hc_location=group\" data-hovercard=\"/ajax/hovercard/user.php?id=100024900753255&amp;extragetparams=%7B%22__tn__%22%3A%22%2Cd-_-R%22%2C%22eid%22%3A%22ARCc9TkNzcn5S2-mSj7sU1TPKh4m1WRU1PQOWzitV-_NXSEXCO7EaqDOWF0DP42GK7YbCrK2U3xdgzFy%22%2C%22fref%22%3A%22gm%22%2C%22directed_target_id%22%3A322855534791779%2C%22dti%22%3A322855534791779%2C%22hc_location%22%3A%22group%22%7D\" data-hovercard-prefer-more-content-show=\"1\" role=\"button\">Fabien David</a></div>\n",
        "                        <div class=\"_60rj\"><abbr data-utime=\"1537538464\" title=\"Friday, September 21, 2018 at 4:01 PM\" class=\"timestamp\"><span class=\"timestampContent\">Joined about a year ago</span></abbr></div>\n",
        "                        <div class=\"_60rj\">Works at PXNetwork</div>\n",
        "                    </div>\n",
        "                </div>\n",
        "            </div>\n",
        "        </div>\n",
        "    </div>\n",
        "    <div class=\"clearfix _60rh _gse\" id=\"all_members_100020299845509\" data-ft=\"{&quot;tn&quot;:&quot;-_&quot;}\" data-name=\"GroupProfileGridItem\" data-testid=\"GroupMember_100020299845509\">\n",
        "        <a class=\"_60rg _8o _8r lfloat _ohe\" ajaxify=\"/groups/member/?group_id=322855534791779&amp;member_id=100020299845509&amp;ref=MEMBER_LIST\" rel=\"dialog\" title=\"Victor Leboda\" tabindex=\"-1\" aria-hidden=\"true\" href=\"https://www.facebook.com/VictorLebodapro?fref=gm&amp;__tn__=%2Cd-_-R&amp;eid=ARDpcDf2T8Q2HiKdPiIFBXKpedx8inigSLPc86FOmCPU-DwIjSj6ko96herWVZLP750cXsKYt0WCLGuN&amp;dti=322855534791779&amp;hc_location=group\" data-hovercard=\"/ajax/hovercard/user.php?id=100020299845509&amp;extragetparams=%7B%22__tn__%22%3A%22%2Cd-_-R%22%2C%22eid%22%3A%22ARDpcDf2T8Q2HiKdPiIFBXKpedx8inigSLPc86FOmCPU-DwIjSj6ko96herWVZLP750cXsKYt0WCLGuN%22%2C%22fref%22%3A%22gm%22%2C%22directed_target_id%22%3A322855534791779%2C%22dti%22%3A322855534791779%2C%22hc_location%22%3A%22group%22%7D\" data-hovercard-prefer-more-content-show=\"1\" role=\"button\"><img class=\"_s0 _4ooo img\" src=\"https://scontent-cdg2-1.xx.fbcdn.net/v/t1.0-1/cp0/p74x74/72189943_392918778061447_6516730195771129856_n.jpg?_nc_cat=110&amp;_nc_sid=dbb9e7&amp;_nc_oc=AQnjKrDByeIS2OLBshE5VPp1UMQ8iwpnk2iWJLLbdKl6ffgfpGIi536LUwPKyJcQ-fWZZpUiM5ynQ3vMubpEod4b&amp;_nc_ht=scontent-cdg2-1.xx&amp;oh=6b0301da6ea0e7216f629ce81ffec244&amp;oe=5E9A999C\" alt=\"\" aria-label=\"Victor Leboda\" role=\"img\" style=\"width:72px;height:72px\"></a>\n",
        "        <div class=\"clearfix _8u _42ef\">\n",
        "            <div class=\"_6a rfloat _ohf\">\n",
        "                <div class=\"_6a _6b\" style=\"height:72px\"></div>\n",
        "                <div class=\"_6a _6b\">\n",
        "                    <div class=\"clearfix _4eo_\">\n",
        "                        <div class=\"lfloat _ohe\"><a role=\"button\" class=\"_42ft _4jy0 _4jy3 _517h _51sy\" href=\"/messages/t/VictorLebodapro/\" ajaxify=\"/ajax/messaging/composer.php?ids%5B0%5D=100020299845509&amp;ref=gml\" rel=\"dialog\" id=\"u_0_3h\"><i class=\"_3-8_ img sp_CCm7xfUVq_I sx_aecd3d\"></i>Message</a></div>\n",
        "                        <div class=\"rfloat _ohf\"><span id=\"resendInvite_100020299845509\"><div class=\"_6a _6b uiPopover\" id=\"u_0_3i\"><button value=\"1\" class=\"_42ft _4jy0 _62qi _60rl _p _4jy3 _517h _51sy\" aria-label=\"Member Settings\" data-testid=\"admin_action_menu_button-all_members-100020299845509\" aria-haspopup=\"true\" aria-expanded=\"false\" type=\"submit\" id=\"u_0_3j\" role=\"button\"><i class=\"img sp_yKIerHEVDxg sx_0b6344\"><u>3-dots-h</u></i></button></div></span></div>\n",
        "                    </div>\n",
        "                </div>\n",
        "            </div>\n",
        "            <div class=\"uiProfileBlockContent _61ce\">\n",
        "                <div class=\"_6a\">\n",
        "                    <div class=\"_6a _6b\" style=\"height:72px\"></div>\n",
        "                    <div class=\"_6a _6b\">\n",
        "                        <div class=\"_60ri\"><a ajaxify=\"/groups/member/?group_id=322855534791779&amp;member_id=100020299845509&amp;ref=MEMBER_LIST\" rel=\"dialog\" title=\"Victor Leboda\" href=\"https://www.facebook.com/VictorLebodapro?fref=gm&amp;__tn__=%2Cd-_-R&amp;eid=ARBLrNNj-UkSfoGWEKwz83QWNuyxx7jOOHTVwrWrUyaHmqEDgb9IiFUCeP08MatlONmuFKTgZ7LxLUQ9&amp;dti=322855534791779&amp;hc_location=group\" data-hovercard=\"/ajax/hovercard/user.php?id=100020299845509&amp;extragetparams=%7B%22__tn__%22%3A%22%2Cd-_-R%22%2C%22eid%22%3A%22ARBLrNNj-UkSfoGWEKwz83QWNuyxx7jOOHTVwrWrUyaHmqEDgb9IiFUCeP08MatlONmuFKTgZ7LxLUQ9%22%2C%22fref%22%3A%22gm%22%2C%22directed_target_id%22%3A322855534791779%2C%22dti%22%3A322855534791779%2C%22hc_location%22%3A%22group%22%7D\" data-hovercard-prefer-more-content-show=\"1\" role=\"button\">Victor Leboda</a></div>\n",
        "                        <div class=\"_60rj\">Added by Mikaël Monjour on April 19, 2018</div>\n",
        "                        <div class=\"_60rj\">Growth Manager at Libeo</div>\n",
        "                    </div>\n",
        "                </div>\n",
        "            </div>\n",
        "        </div>\n",
        "    </div>\n",
        "    <div class=\"clearfix _60rh _gse\" id=\"all_members_684259739\" data-ft=\"{&quot;tn&quot;:&quot;-_&quot;}\" data-name=\"GroupProfileGridItem\" data-testid=\"GroupMember_684259739\">\n",
        "        <a class=\"_60rg _8o _8r lfloat _ohe\" ajaxify=\"/groups/member/?group_id=322855534791779&amp;member_id=684259739&amp;ref=MEMBER_LIST\" rel=\"dialog\" title=\"Paul D'aura\" tabindex=\"-1\" aria-hidden=\"true\" href=\"https://www.facebook.com/paul.daura.7?fref=gm&amp;__tn__=%2Cd-_-R&amp;eid=ARDN1Rt8I56I8BCdlBsUEnvI2DE1rulPdlXML9Ujkb6e1VnwxyqGo5bx_bSx0XD4jWmY1q1PrQebIvqS&amp;dti=322855534791779&amp;hc_location=group\" data-hovercard=\"/ajax/hovercard/user.php?id=684259739&amp;extragetparams=%7B%22__tn__%22%3A%22%2Cd-_-R%22%2C%22eid%22%3A%22ARDN1Rt8I56I8BCdlBsUEnvI2DE1rulPdlXML9Ujkb6e1VnwxyqGo5bx_bSx0XD4jWmY1q1PrQebIvqS%22%2C%22fref%22%3A%22gm%22%2C%22directed_target_id%22%3A322855534791779%2C%22dti%22%3A322855534791779%2C%22hc_location%22%3A%22group%22%7D\" data-hovercard-prefer-more-content-show=\"1\" role=\"button\"><img class=\"_s0 _4ooo img\" src=\"https://scontent-cdt1-1.xx.fbcdn.net/v/t1.0-1/cp0/p74x74/60799431_10157334128359740_3731770820045832192_n.jpg?_nc_cat=106&amp;_nc_sid=dbb9e7&amp;_nc_oc=AQnObbo3t-3u8aX7cDY8xsLRaosZybvuDYvrPD2xqYf5ZVWkp24xPOumiga_9Zu3377Q7eYT_cS-JF_3xFpRGnF5&amp;_nc_ht=scontent-cdt1-1.xx&amp;oh=007a42a3bc6ae3ef2256d623e946efad&amp;oe=5E9C69A7\" alt=\"\" aria-label=\"Paul D'aura\" role=\"img\" style=\"width:72px;height:72px\"></a>\n",
        "        <div class=\"clearfix _8u _42ef\">\n",
        "            <div class=\"_6a rfloat _ohf\">\n",
        "                <div class=\"_6a _6b\" style=\"height:72px\"></div>\n",
        "                <div class=\"_6a _6b\">\n",
        "                    <div class=\"clearfix _4eo_\">\n",
        "                        <div class=\"lfloat _ohe\"><a role=\"button\" class=\"_42ft _4jy0 _4jy3 _517h _51sy\" href=\"/messages/t/paul.daura.7/\" ajaxify=\"/ajax/messaging/composer.php?ids%5B0%5D=684259739&amp;ref=gml\" rel=\"dialog\" id=\"u_0_3k\"><i class=\"_3-8_ img sp_CCm7xfUVq_I sx_aecd3d\"></i>Message</a></div>\n",
        "                        <div class=\"rfloat _ohf\"><span id=\"resendInvite_684259739\"><div class=\"_6a _6b uiPopover\" id=\"u_0_3l\"><button value=\"1\" class=\"_42ft _4jy0 _62qi _60rl _p _4jy3 _517h _51sy\" aria-label=\"Member Settings\" data-testid=\"admin_action_menu_button-all_members-684259739\" aria-haspopup=\"true\" aria-expanded=\"false\" type=\"submit\" id=\"u_0_3m\" role=\"button\"><i class=\"img sp_yKIerHEVDxg sx_0b6344\"><u>3-dots-h</u></i></button></div></span></div>\n",
        "                    </div>\n",
        "                </div>\n",
        "            </div>\n",
        "            <div class=\"uiProfileBlockContent _61ce\">\n",
        "                <div class=\"_6a\">\n",
        "                    <div class=\"_6a _6b\" style=\"height:72px\"></div>\n",
        "                    <div class=\"_6a _6b\">\n",
        "                        <div class=\"_60ri\"><a ajaxify=\"/groups/member/?group_id=322855534791779&amp;member_id=684259739&amp;ref=MEMBER_LIST\" rel=\"dialog\" title=\"Paul D'aura\" href=\"https://www.facebook.com/paul.daura.7?fref=gm&amp;__tn__=%2Cd-_-R&amp;eid=ARBu8mVn-M58UyBuw0tdgeOgL7sEitvB-hEH6ASNhq2X6QXOJASljxyqn6uF6XK-MkdKMuVGSHEVlwH3&amp;dti=322855534791779&amp;hc_location=group\" data-hovercard=\"/ajax/hovercard/user.php?id=684259739&amp;extragetparams=%7B%22__tn__%22%3A%22%2Cd-_-R%22%2C%22eid%22%3A%22ARBu8mVn-M58UyBuw0tdgeOgL7sEitvB-hEH6ASNhq2X6QXOJASljxyqn6uF6XK-MkdKMuVGSHEVlwH3%22%2C%22fref%22%3A%22gm%22%2C%22directed_target_id%22%3A322855534791779%2C%22dti%22%3A322855534791779%2C%22hc_location%22%3A%22group%22%7D\" data-hovercard-prefer-more-content-show=\"1\" role=\"button\">Paul D'aura</a></div>\n",
        "                        <div class=\"_60rj\">Added by Mikaël Monjour on October 9, 2017</div>\n",
        "                        <div class=\"_60rj\">IDRAC Campus de Lyon</div>\n",
        "                    </div>\n",
        "                </div>\n",
        "            </div>\n",
        "        </div>\n",
        "    </div>\n",
        "    <div class=\"clearfix _60rh _gse\" id=\"all_members_100001410897754\" data-ft=\"{&quot;tn&quot;:&quot;-_&quot;}\" data-name=\"GroupProfileGridItem\" data-testid=\"GroupMember_100001410897754\">\n",
        "        <a class=\"_60rg _8o _8r lfloat _ohe\" ajaxify=\"/groups/member/?group_id=322855534791779&amp;member_id=100001410897754&amp;ref=MEMBER_LIST\" rel=\"dialog\" title=\"Pablo Guirao\" tabindex=\"-1\" aria-hidden=\"true\" href=\"https://www.facebook.com/pabloguiraoperso?fref=gm&amp;__tn__=%2Cd-_-R&amp;eid=ARBnU_DaxYhhg25RXdZb_BXrDvMfT2wPe3IqT5k-QbxLqOnZoD_msWKuL_lpH19zzXjq7Beea6MbM4ls&amp;dti=322855534791779&amp;hc_location=group\" data-hovercard=\"/ajax/hovercard/user.php?id=100001410897754&amp;extragetparams=%7B%22__tn__%22%3A%22%2Cd-_-R%22%2C%22eid%22%3A%22ARBnU_DaxYhhg25RXdZb_BXrDvMfT2wPe3IqT5k-QbxLqOnZoD_msWKuL_lpH19zzXjq7Beea6MbM4ls%22%2C%22fref%22%3A%22gm%22%2C%22directed_target_id%22%3A322855534791779%2C%22dti%22%3A322855534791779%2C%22hc_location%22%3A%22group%22%7D\" data-hovercard-prefer-more-content-show=\"1\" role=\"button\"><img class=\"_s0 _4ooo img\" src=\"https://scontent-cdg2-1.xx.fbcdn.net/v/t1.0-1/cp0/p74x74/64752633_2392172800839726_1594819153410129920_n.jpg?_nc_cat=108&amp;_nc_sid=dbb9e7&amp;_nc_oc=AQl3VwNaKKanAvUwEjr2eQxX39FxRgZ02WGDjUr2QcmH3Glo8iq2fFYyUKczTxy-4Z13YTNmoNMpF4fqZ7-bMyIT&amp;_nc_ht=scontent-cdg2-1.xx&amp;oh=d2f45f182b3d90ccb5f71b54567b1844&amp;oe=5E9A51D4\" alt=\"\" aria-label=\"Pablo Guirao\" role=\"img\" style=\"width:72px;height:72px\"></a>\n",
        "        <div class=\"clearfix _8u _42ef\">\n",
        "            <div class=\"_6a rfloat _ohf\">\n",
        "                <div class=\"_6a _6b\" style=\"height:72px\"></div>\n",
        "                <div class=\"_6a _6b\">\n",
        "                    <div class=\"clearfix _4eo_\">\n",
        "                        <div class=\"lfloat _ohe\"><a role=\"button\" class=\"_42ft _4jy0 _4jy3 _517h _51sy\" href=\"/messages/t/pabloguiraoperso/\" ajaxify=\"/ajax/messaging/composer.php?ids%5B0%5D=100001410897754&amp;ref=gml\" rel=\"dialog\" id=\"u_0_3n\"><i class=\"_3-8_ img sp_CCm7xfUVq_I sx_aecd3d\"></i>Message</a></div>\n",
        "                        <div class=\"rfloat _ohf\"><span id=\"resendInvite_100001410897754\"><div class=\"_6a _6b uiPopover\" id=\"u_0_3o\"><button value=\"1\" class=\"_42ft _4jy0 _62qi _60rl _p _4jy3 _517h _51sy\" aria-label=\"Member Settings\" data-testid=\"admin_action_menu_button-all_members-100001410897754\" aria-haspopup=\"true\" aria-expanded=\"false\" type=\"submit\" id=\"u_0_3p\" role=\"button\"><i class=\"img sp_yKIerHEVDxg sx_0b6344\"><u>3-dots-h</u></i></button></div></span></div>\n",
        "                    </div>\n",
        "                </div>\n",
        "            </div>\n",
        "            <div class=\"uiProfileBlockContent _61ce\">\n",
        "                <div class=\"_6a\">\n",
        "                    <div class=\"_6a _6b\" style=\"height:72px\"></div>\n",
        "                    <div class=\"_6a _6b\">\n",
        "                        <div class=\"_60ri\"><a ajaxify=\"/groups/member/?group_id=322855534791779&amp;member_id=100001410897754&amp;ref=MEMBER_LIST\" rel=\"dialog\" title=\"Pablo Guirao\" href=\"https://www.facebook.com/pabloguiraoperso?fref=gm&amp;__tn__=%2Cd-_-R&amp;eid=ARB5F2tPV33EIq0qmaHYWlvEyrSHjj4SNXi7M7Xvj8kgSpt8JSJr37c-s6TRrjQtS9Uua02yQl9D_OP3&amp;dti=322855534791779&amp;hc_location=group\" data-hovercard=\"/ajax/hovercard/user.php?id=100001410897754&amp;extragetparams=%7B%22__tn__%22%3A%22%2Cd-_-R%22%2C%22eid%22%3A%22ARB5F2tPV33EIq0qmaHYWlvEyrSHjj4SNXi7M7Xvj8kgSpt8JSJr37c-s6TRrjQtS9Uua02yQl9D_OP3%22%2C%22fref%22%3A%22gm%22%2C%22directed_target_id%22%3A322855534791779%2C%22dti%22%3A322855534791779%2C%22hc_location%22%3A%22group%22%7D\" data-hovercard-prefer-more-content-show=\"1\" role=\"button\">Pablo Guirao</a></div>\n",
        "                        <div class=\"_60rj\">Added by Growth Hacking chatbot on March 14, 2018</div>\n",
        "                        <div class=\"_60rj\">Marketing Operations Director at Heart Jacking</div>\n",
        "                    </div>\n",
        "                </div>\n",
        "            </div>\n",
        "        </div>\n",
        "    </div>\n",
        "    <div class=\"clearfix _60rh _gse\" id=\"all_members_679030123\" data-ft=\"{&quot;tn&quot;:&quot;-_&quot;}\" data-name=\"GroupProfileGridItem\" data-testid=\"GroupMember_679030123\">\n",
        "        <a class=\"_60rg _8o _8r lfloat _ohe\" ajaxify=\"/groups/member/?group_id=322855534791779&amp;member_id=679030123&amp;ref=MEMBER_LIST\" rel=\"dialog\" title=\"Raph Az\" tabindex=\"-1\" aria-hidden=\"true\" href=\"https://www.facebook.com/raphael753?fref=gm&amp;__tn__=%2Cd-_-R&amp;eid=ARAYYwISJ9swkSkgj_c5uVBkT0ewVdxRPsqHptL4R99iP-T0LfLPcZoHzuTQUpkTq35WMz1pprHO10lr&amp;dti=322855534791779&amp;hc_location=group\" data-hovercard=\"/ajax/hovercard/user.php?id=679030123&amp;extragetparams=%7B%22__tn__%22%3A%22%2Cd-_-R%22%2C%22eid%22%3A%22ARAYYwISJ9swkSkgj_c5uVBkT0ewVdxRPsqHptL4R99iP-T0LfLPcZoHzuTQUpkTq35WMz1pprHO10lr%22%2C%22fref%22%3A%22gm%22%2C%22directed_target_id%22%3A322855534791779%2C%22dti%22%3A322855534791779%2C%22hc_location%22%3A%22group%22%7D\" data-hovercard-prefer-more-content-show=\"1\" role=\"button\"><img class=\"_s0 _4ooo img\" src=\"https://scontent-cdg2-1.xx.fbcdn.net/v/t1.0-1/cp0/c0.0.74.74a/p74x74/307401_10150266228915124_1938464_n.jpg?_nc_cat=104&amp;_nc_sid=dbb9e7&amp;_nc_oc=AQmJpdxorKPVxI5m9hkhJhpH6DBKImECfQT8mLoG0HytHy1JweOzwpOnb2JywnVcUbtXgsHZI5RQNldz4MqkjHoT&amp;_nc_ht=scontent-cdg2-1.xx&amp;oh=8b61d689092524dc3b1772aa3fbb9f0a&amp;oe=5E9AB9DB\" alt=\"\" aria-label=\"Raph Az\" role=\"img\" style=\"width:72px;height:72px\"></a>\n",
        "        <div class=\"clearfix _8u _42ef\">\n",
        "            <div class=\"_6a rfloat _ohf\">\n",
        "                <div class=\"_6a _6b\" style=\"height:72px\"></div>\n",
        "                <div class=\"_6a _6b\">\n",
        "                    <div class=\"clearfix _4eo_\">\n",
        "                        <div class=\"lfloat _ohe\"><a role=\"button\" class=\"_42ft _4jy0 _4jy3 _517h _51sy\" href=\"/messages/t/raphael753/\" ajaxify=\"/ajax/messaging/composer.php?ids%5B0%5D=679030123&amp;ref=gml\" rel=\"dialog\" id=\"u_0_3q\"><i class=\"_3-8_ img sp_CCm7xfUVq_I sx_aecd3d\"></i>Message</a></div>\n",
        "                        <div class=\"rfloat _ohf\"><span id=\"resendInvite_679030123\"><div class=\"_6a _6b uiPopover\" id=\"u_0_3r\"><button value=\"1\" class=\"_42ft _4jy0 _62qi _60rl _p _4jy3 _517h _51sy\" aria-label=\"Member Settings\" data-testid=\"admin_action_menu_button-all_members-679030123\" aria-haspopup=\"true\" aria-expanded=\"false\" type=\"submit\" id=\"u_0_3s\" role=\"button\"><i class=\"img sp_yKIerHEVDxg sx_0b6344\"><u>3-dots-h</u></i></button></div></span></div>\n",
        "                    </div>\n",
        "                </div>\n",
        "            </div>\n",
        "            <div class=\"uiProfileBlockContent _61ce\">\n",
        "                <div class=\"_6a\">\n",
        "                    <div class=\"_6a _6b\" style=\"height:72px\"></div>\n",
        "                    <div class=\"_6a _6b\">\n",
        "                        <div class=\"_60ri\"><a ajaxify=\"/groups/member/?group_id=322855534791779&amp;member_id=679030123&amp;ref=MEMBER_LIST\" rel=\"dialog\" title=\"Raph Az\" href=\"https://www.facebook.com/raphael753?fref=gm&amp;__tn__=%2Cd-_-R&amp;eid=ARCvFHyccWhKiEVhzFqjsadtqvE0JDhkDtywx74xMe-awl5QpUjMJrkTjlk-dh9BU_qLRrAqkv8NJ50d&amp;dti=322855534791779&amp;hc_location=group\" data-hovercard=\"/ajax/hovercard/user.php?id=679030123&amp;extragetparams=%7B%22__tn__%22%3A%22%2Cd-_-R%22%2C%22eid%22%3A%22ARCvFHyccWhKiEVhzFqjsadtqvE0JDhkDtywx74xMe-awl5QpUjMJrkTjlk-dh9BU_qLRrAqkv8NJ50d%22%2C%22fref%22%3A%22gm%22%2C%22directed_target_id%22%3A322855534791779%2C%22dti%22%3A322855534791779%2C%22hc_location%22%3A%22group%22%7D\" data-hovercard-prefer-more-content-show=\"1\" role=\"button\">Raph Az</a></div>\n",
        "                        <div class=\"_60rj\"><abbr data-utime=\"1541454535\" title=\"Monday, November 5, 2018 at 10:48 PM\" class=\"timestamp\"><span class=\"timestampContent\">Joined about a year ago</span></abbr></div>\n",
        "                        <div class=\"_60rj\">Ecole de management de Lyon</div>\n",
        "                    </div>\n",
        "                </div>\n",
        "            </div>\n",
        "        </div>\n",
        "    </div>\n",
        "    <div class=\"clearfix _60rh _gse\" id=\"all_members_100009396594031\" data-ft=\"{&quot;tn&quot;:&quot;-_&quot;}\" data-name=\"GroupProfileGridItem\" data-testid=\"GroupMember_100009396594031\">\n",
        "        <a class=\"_60rg _8o _8r lfloat _ohe\" ajaxify=\"/groups/member/?group_id=322855534791779&amp;member_id=100009396594031&amp;ref=MEMBER_LIST\" rel=\"dialog\" title=\"Growth Hacking\" tabindex=\"-1\" aria-hidden=\"true\" href=\"https://www.facebook.com/growthhackingguru?fref=gm&amp;__tn__=%2Cd-_-R&amp;eid=ARAPCGHMV2OhjlBEr_hi-QV0bp5x__U1POntyufrz-ZG53S21EpP7Vas1jsprR-zr_BYP4PCAvuvWJdH&amp;dti=322855534791779&amp;hc_location=group\" data-hovercard=\"/ajax/hovercard/user.php?id=100009396594031&amp;extragetparams=%7B%22__tn__%22%3A%22%2Cd-_-R%22%2C%22eid%22%3A%22ARAPCGHMV2OhjlBEr_hi-QV0bp5x__U1POntyufrz-ZG53S21EpP7Vas1jsprR-zr_BYP4PCAvuvWJdH%22%2C%22fref%22%3A%22gm%22%2C%22directed_target_id%22%3A322855534791779%2C%22dti%22%3A322855534791779%2C%22hc_location%22%3A%22group%22%7D\" data-hovercard-prefer-more-content-show=\"1\" role=\"button\"><img class=\"_s0 _4ooo img\" src=\"https://scontent-cdg2-1.xx.fbcdn.net/v/t1.0-1/cp0/p74x74/84719521_2609604606029400_1645149598819287040_n.jpg?_nc_cat=107&amp;_nc_sid=dbb9e7&amp;_nc_oc=AQmWl5ruF9fuEiZDHVZlmOz16QL_OrnkvXXywhgqWEa3EE7e299o313suXWDFB12YSH08yQK3BBszTiuc_ziSy0l&amp;_nc_ht=scontent-cdg2-1.xx&amp;oh=e3f1a31e79e0a47c4a4500f7dd2db59b&amp;oe=5E9A3045\" alt=\"\" aria-label=\"Growth Hacking\" role=\"img\" style=\"width:72px;height:72px\"></a>\n",
        "        <div class=\"clearfix _8u _42ef\">\n",
        "            <div class=\"_6a rfloat _ohf\">\n",
        "                <div class=\"_6a _6b\" style=\"height:72px\"></div>\n",
        "                <div class=\"_6a _6b\">\n",
        "                    <div class=\"clearfix _4eo_\">\n",
        "                        <div class=\"lfloat _ohe\"><a role=\"button\" class=\"_42ft _4jy0 _4jy3 _517h _51sy\" href=\"/messages/t/growthhackingguru/\" ajaxify=\"/ajax/messaging/composer.php?ids%5B0%5D=100009396594031&amp;ref=gml\" rel=\"dialog\" id=\"u_0_3t\"><i class=\"_3-8_ img sp_CCm7xfUVq_I sx_aecd3d\"></i>Message</a></div>\n",
        "                        <div class=\"rfloat _ohf\"><span id=\"resendInvite_100009396594031\"><div class=\"_6a _6b uiPopover\" id=\"u_0_3u\"><button value=\"1\" class=\"_42ft _4jy0 _62qi _60rl _p _4jy3 _517h _51sy\" aria-label=\"Member Settings\" data-testid=\"admin_action_menu_button-all_members-100009396594031\" aria-haspopup=\"true\" aria-expanded=\"false\" type=\"submit\" id=\"u_0_3v\" role=\"button\"><i class=\"img sp_yKIerHEVDxg sx_0b6344\"><u>3-dots-h</u></i></button></div></span></div>\n",
        "                    </div>\n",
        "                </div>\n",
        "            </div>\n",
        "            <div class=\"uiProfileBlockContent _61ce\">\n",
        "                <div class=\"_6a\">\n",
        "                    <div class=\"_6a _6b\" style=\"height:72px\"></div>\n",
        "                    <div class=\"_6a _6b\">\n",
        "                        <div class=\"_60ri\"><a ajaxify=\"/groups/member/?group_id=322855534791779&amp;member_id=100009396594031&amp;ref=MEMBER_LIST\" rel=\"dialog\" title=\"Growth Hacking\" href=\"https://www.facebook.com/growthhackingguru?fref=gm&amp;__tn__=%2Cd-_-R&amp;eid=ARDSRFTXu9cj7_lUjVb9YUNeIU2st-xcppZ2aj8SSUmjLtq7LK9B73xHmcJtjGWfpKSZqe1tme_hIe1g&amp;dti=322855534791779&amp;hc_location=group\" data-hovercard=\"/ajax/hovercard/user.php?id=100009396594031&amp;extragetparams=%7B%22__tn__%22%3A%22%2Cd-_-R%22%2C%22eid%22%3A%22ARDSRFTXu9cj7_lUjVb9YUNeIU2st-xcppZ2aj8SSUmjLtq7LK9B73xHmcJtjGWfpKSZqe1tme_hIe1g%22%2C%22fref%22%3A%22gm%22%2C%22directed_target_id%22%3A322855534791779%2C%22dti%22%3A322855534791779%2C%22hc_location%22%3A%22group%22%7D\" data-hovercard-prefer-more-content-show=\"1\" role=\"button\">Growth Hacking</a></div>\n",
        "                        <div class=\"_60rj\">Added by Mikaël Monjour on January 22, 2020</div>\n",
        "                        <div class=\"_60rj\"></div>\n",
        "                    </div>\n",
        "                </div>\n",
        "            </div>\n",
        "        </div>\n",
        "    </div>\n",
        "    <div class=\"clearfix _60rh _gse\" id=\"all_members_100007342380545\" data-ft=\"{&quot;tn&quot;:&quot;-_&quot;}\" data-name=\"GroupProfileGridItem\" data-testid=\"GroupMember_100007342380545\">\n",
        "        <a class=\"_60rg _8o _8r lfloat _ohe\" ajaxify=\"/groups/member/?group_id=322855534791779&amp;member_id=100007342380545&amp;ref=MEMBER_LIST\" rel=\"dialog\" title=\"Gauthier Buttez\" tabindex=\"-1\" aria-hidden=\"true\" href=\"https://www.facebook.com/gauthier.buttez?fref=gm&amp;__tn__=%2Cd-_-R&amp;eid=ARCUwKHs-Qq2JtbS0jUZMwmykgQ2gI18N9vC66IW_-K6hd9ED3UjlghcOSl6XoS2_P837thvEbNP5eYk&amp;dti=322855534791779&amp;hc_location=group\" data-hovercard=\"/ajax/hovercard/user.php?id=100007342380545&amp;extragetparams=%7B%22__tn__%22%3A%22%2Cd-_-R%22%2C%22eid%22%3A%22ARCUwKHs-Qq2JtbS0jUZMwmykgQ2gI18N9vC66IW_-K6hd9ED3UjlghcOSl6XoS2_P837thvEbNP5eYk%22%2C%22fref%22%3A%22gm%22%2C%22directed_target_id%22%3A322855534791779%2C%22dti%22%3A322855534791779%2C%22hc_location%22%3A%22group%22%7D\" data-hovercard-prefer-more-content-show=\"1\" role=\"button\"><img class=\"_s0 _4ooo img\" src=\"https://scontent-cdg2-1.xx.fbcdn.net/v/t1.0-1/cp0/p74x74/1463193_1374431669478233_472501500_n.jpg?_nc_cat=111&amp;_nc_sid=dbb9e7&amp;_nc_oc=AQk_Q7eXE6H9rUOB6NqM3yQlUk0UjxK59dODkIAyaYMSc9ct-RqOgUXrFy-HJ-fEinhFfcPiUchUQ4IWTp8QFEgX&amp;_nc_ht=scontent-cdg2-1.xx&amp;oh=c532c6976d2c3046c4f10ce4b1b0ab24&amp;oe=5E9ABE28\" alt=\"\" aria-label=\"Gauthier Buttez\" role=\"img\" style=\"width:72px;height:72px\"></a>\n",
        "        <div class=\"clearfix _8u _42ef\">\n",
        "            <div class=\"_6a rfloat _ohf\">\n",
        "                <div class=\"_6a _6b\" style=\"height:72px\"></div>\n",
        "                <div class=\"_6a _6b\">\n",
        "                    <div class=\"clearfix _4eo_\">\n",
        "                        <div class=\"lfloat _ohe\"><a role=\"button\" class=\"_42ft _4jy0 _4jy3 _517h _51sy\" href=\"/messages/t/gauthier.buttez/\" ajaxify=\"/ajax/messaging/composer.php?ids%5B0%5D=100007342380545&amp;ref=gml\" rel=\"dialog\" id=\"u_0_3w\"><i class=\"_3-8_ img sp_CCm7xfUVq_I sx_aecd3d\"></i>Message</a></div>\n",
        "                        <div class=\"rfloat _ohf\"><span id=\"resendInvite_100007342380545\"><div class=\"_6a _6b uiPopover\" id=\"u_0_3x\"><button value=\"1\" class=\"_42ft _4jy0 _62qi _60rl _p _4jy3 _517h _51sy\" aria-label=\"Member Settings\" data-testid=\"admin_action_menu_button-all_members-100007342380545\" aria-haspopup=\"true\" aria-expanded=\"false\" type=\"submit\" id=\"u_0_3y\" role=\"button\"><i class=\"img sp_yKIerHEVDxg sx_0b6344\"><u>3-dots-h</u></i></button></div></span></div>\n",
        "                    </div>\n",
        "                </div>\n",
        "            </div>\n",
        "            <div class=\"uiProfileBlockContent _61ce\">\n",
        "                <div class=\"_6a\">\n",
        "                    <div class=\"_6a _6b\" style=\"height:72px\"></div>\n",
        "                    <div class=\"_6a _6b\">\n",
        "                        <div class=\"_60ri\"><a ajaxify=\"/groups/member/?group_id=322855534791779&amp;member_id=100007342380545&amp;ref=MEMBER_LIST\" rel=\"dialog\" title=\"Gauthier Buttez\" href=\"https://www.facebook.com/gauthier.buttez?fref=gm&amp;__tn__=%2Cd-_-R&amp;eid=ARAHfIEi8Dz8y7nrAuBBkcCqzPzVzfp9SrxkIqBzX0JxX_Jc86T-yBzLdxCBR4UwLNfwc-FhLG4HCJu-&amp;dti=322855534791779&amp;hc_location=group\" data-hovercard=\"/ajax/hovercard/user.php?id=100007342380545&amp;extragetparams=%7B%22__tn__%22%3A%22%2Cd-_-R%22%2C%22eid%22%3A%22ARAHfIEi8Dz8y7nrAuBBkcCqzPzVzfp9SrxkIqBzX0JxX_Jc86T-yBzLdxCBR4UwLNfwc-FhLG4HCJu-%22%2C%22fref%22%3A%22gm%22%2C%22directed_target_id%22%3A322855534791779%2C%22dti%22%3A322855534791779%2C%22hc_location%22%3A%22group%22%7D\" data-hovercard-prefer-more-content-show=\"1\" role=\"button\">Gauthier Buttez</a></div><span><span><a ajaxify=\"/groups/member_bio/bio_dialog/?group_id=322855534791779&amp;member_id=100007342380545&amp;ref=MEMBER_LIST\" aria-label=\"Group member list\" class=\"f4bffpk3 c61n2bf6\" href=\"/groups/322855534791779/badge_member_list/?badge_type=VISUAL_STORYTELLER\" rel=\"dialog\"><span><i class=\"cv5aopd8 bq6c9xl4 w9qc3v22 l3gxykhd img sp_Gn9AZ1U4KqF sx_81eecc\" alt=\"\"></i><span class=\"igjjae4c glosn74e f2jdl7fy cxfqmxzd\">Visual Storyteller</span></span>\n",
        "                        </a>\n",
        "                        </span>\n",
        "                        <!-- react-mount-point-unstable -->\n",
        "                        </span>\n",
        "                        <div class=\"_60rj\"><abbr data-utime=\"1533510546\" title=\"Monday, August 6, 2018 at 1:09 AM\" class=\"timestamp\"><span class=\"timestampContent\">Joined about 2 years ago</span></abbr></div>\n",
        "                        <div class=\"_60rj\">Growth Hacker at Gauthier Buttez</div>\n",
        "                    </div>\n",
        "                </div>\n",
        "            </div>\n",
        "        </div>\n",
        "    </div>\n",
        "    <div class=\"clearfix _60rh _gse\" id=\"all_members_1074327337\" data-ft=\"{&quot;tn&quot;:&quot;-_&quot;}\" data-name=\"GroupProfileGridItem\" data-testid=\"GroupMember_1074327337\">\n",
        "        <a class=\"_60rg _8o _8r lfloat _ohe\" ajaxify=\"/groups/member/?group_id=322855534791779&amp;member_id=1074327337&amp;ref=MEMBER_LIST\" rel=\"dialog\" title=\"Anne Gerard\" tabindex=\"-1\" aria-hidden=\"true\" href=\"https://www.facebook.com/anne.gerard.509?fref=gm&amp;__tn__=%2Cd-_-R&amp;eid=ARBlthApZpIbYuLaIGXgI0WMs8LxCY5PCxdVea2pACMyjLIGES3WP8nKOT9pmlEffN6Pm59LS9Tn-0w_&amp;dti=322855534791779&amp;hc_location=group\" data-hovercard=\"/ajax/hovercard/user.php?id=1074327337&amp;extragetparams=%7B%22__tn__%22%3A%22%2Cd-_-R%22%2C%22eid%22%3A%22ARBlthApZpIbYuLaIGXgI0WMs8LxCY5PCxdVea2pACMyjLIGES3WP8nKOT9pmlEffN6Pm59LS9Tn-0w_%22%2C%22fref%22%3A%22gm%22%2C%22directed_target_id%22%3A322855534791779%2C%22dti%22%3A322855534791779%2C%22hc_location%22%3A%22group%22%7D\" data-hovercard-prefer-more-content-show=\"1\" role=\"button\"><img class=\"_s0 _4ooo img\" src=\"https://scontent-cdg2-1.xx.fbcdn.net/v/t1.0-1/cp0/p74x74/14938135_10208952506424602_3268600916298292512_n.jpg?_nc_cat=100&amp;_nc_sid=dbb9e7&amp;_nc_oc=AQkgOkcgfASV0YXryLa2twm-3SMm6G7yNSY3wLqJZpWz1vQ90AGpfQ3jyX_-qlC4Kz4TYs35A-OYdiI3TBOizdWo&amp;_nc_ht=scontent-cdg2-1.xx&amp;oh=dfbf772d5d4987adb6f3512d5a67063d&amp;oe=5E9A06BA\" alt=\"\" aria-label=\"Anne Gerard\" role=\"img\" style=\"width:72px;height:72px\"></a>\n",
        "        <div class=\"clearfix _8u _42ef\">\n",
        "            <div class=\"_6a rfloat _ohf\">\n",
        "                <div class=\"_6a _6b\" style=\"height:72px\"></div>\n",
        "                <div class=\"_6a _6b\">\n",
        "                    <div class=\"clearfix _4eo_\">\n",
        "                        <div class=\"lfloat _ohe\"><a role=\"button\" class=\"_42ft _4jy0 _4jy3 _517h _51sy\" href=\"/messages/t/anne.gerard.509/\" ajaxify=\"/ajax/messaging/composer.php?ids%5B0%5D=1074327337&amp;ref=gml\" rel=\"dialog\" id=\"u_0_40\"><i class=\"_3-8_ img sp_CCm7xfUVq_I sx_aecd3d\"></i>Message</a></div>\n",
        "                        <div class=\"rfloat _ohf\"><span id=\"resendInvite_1074327337\"><div class=\"_6a _6b uiPopover\" id=\"u_0_41\"><button value=\"1\" class=\"_42ft _4jy0 _62qi _60rl _p _4jy3 _517h _51sy\" aria-label=\"Member Settings\" data-testid=\"admin_action_menu_button-all_members-1074327337\" aria-haspopup=\"true\" aria-expanded=\"false\" type=\"submit\" id=\"u_0_42\" role=\"button\"><i class=\"img sp_yKIerHEVDxg sx_0b6344\"><u>3-dots-h</u></i></button></div></span></div>\n",
        "                    </div>\n",
        "                </div>\n",
        "            </div>\n",
        "            <div class=\"uiProfileBlockContent _61ce\">\n",
        "                <div class=\"_6a\">\n",
        "                    <div class=\"_6a _6b\" style=\"height:72px\"></div>\n",
        "                    <div class=\"_6a _6b\">\n",
        "                        <div class=\"_60ri\"><a ajaxify=\"/groups/member/?group_id=322855534791779&amp;member_id=1074327337&amp;ref=MEMBER_LIST\" rel=\"dialog\" title=\"Anne Gerard\" href=\"https://www.facebook.com/anne.gerard.509?fref=gm&amp;__tn__=%2Cd-_-R&amp;eid=ARA5k2gpfciadV0m3sx_GoEkwtQDC912GMGbk6laJ1Eq550XDvARaESafqZwrAfjElSFOM5g0wqemc2S&amp;dti=322855534791779&amp;hc_location=group\" data-hovercard=\"/ajax/hovercard/user.php?id=1074327337&amp;extragetparams=%7B%22__tn__%22%3A%22%2Cd-_-R%22%2C%22eid%22%3A%22ARA5k2gpfciadV0m3sx_GoEkwtQDC912GMGbk6laJ1Eq550XDvARaESafqZwrAfjElSFOM5g0wqemc2S%22%2C%22fref%22%3A%22gm%22%2C%22directed_target_id%22%3A322855534791779%2C%22dti%22%3A322855534791779%2C%22hc_location%22%3A%22group%22%7D\" data-hovercard-prefer-more-content-show=\"1\" role=\"button\">Anne Gerard</a></div>\n",
        "                        <div class=\"_60rj\">Added by Mikaël Monjour on February 27, 2020</div>\n",
        "                        <div class=\"_60rj\">École nationale supérieure d'arts et métiers</div>\n",
        "                    </div>\n",
        "                </div>\n",
        "            </div>\n",
        "        </div>\n",
        "    </div>\n",
        "    <div class=\"clearfix _60rh _gse\" id=\"all_members_100000074557033\" data-ft=\"{&quot;tn&quot;:&quot;-_&quot;}\" data-name=\"GroupProfileGridItem\" data-testid=\"GroupMember_100000074557033\">\n",
        "        <a class=\"_60rg _8o _8r lfloat _ohe\" ajaxify=\"/groups/member/?group_id=322855534791779&amp;member_id=100000074557033&amp;ref=MEMBER_LIST\" rel=\"dialog\" title=\"Armen Yeritsyan\" tabindex=\"-1\" aria-hidden=\"true\" href=\"https://www.facebook.com/armen.yeritsyan.5?fref=gm&amp;__tn__=%2Cd-_-R&amp;eid=ARBhLcp-sPcWnH5UuMuPBYl4vyFvyXbsDN-YEl2HVhbDrPoN_mzeInroPVdAIolAeWrSsl1Cf5aQ2cIu&amp;dti=322855534791779&amp;hc_location=group\" data-hovercard=\"/ajax/hovercard/user.php?id=100000074557033&amp;extragetparams=%7B%22__tn__%22%3A%22%2Cd-_-R%22%2C%22eid%22%3A%22ARBhLcp-sPcWnH5UuMuPBYl4vyFvyXbsDN-YEl2HVhbDrPoN_mzeInroPVdAIolAeWrSsl1Cf5aQ2cIu%22%2C%22fref%22%3A%22gm%22%2C%22directed_target_id%22%3A322855534791779%2C%22dti%22%3A322855534791779%2C%22hc_location%22%3A%22group%22%7D\" data-hovercard-prefer-more-content-show=\"1\" role=\"button\"><img class=\"_s0 _4ooo img\" src=\"https://scontent-cdg2-1.xx.fbcdn.net/v/t1.0-1/cp0/p74x74/13307316_1206945979317876_2877509441244132201_n.jpg?_nc_cat=100&amp;_nc_sid=dbb9e7&amp;_nc_oc=AQmKwXahXMv3NTMplSgST95yAOQ2IlzZqYtDXVYuCUF_vKic-GOzXVx4FJDFMqZg2eJ-dfUXoepGyovfaWPDnygf&amp;_nc_ht=scontent-cdg2-1.xx&amp;oh=4cbeff436efc5835e4af40547485d2b4&amp;oe=5E99948E\" alt=\"\" aria-label=\"Armen Yeritsyan\" role=\"img\" style=\"width:72px;height:72px\"></a>\n",
        "        <div class=\"clearfix _8u _42ef\">\n",
        "            <div class=\"_6a rfloat _ohf\">\n",
        "                <div class=\"_6a _6b\" style=\"height:72px\"></div>\n",
        "                <div class=\"_6a _6b\">\n",
        "                    <div class=\"clearfix _4eo_\">\n",
        "                        <div class=\"lfloat _ohe\"><a role=\"button\" class=\"_42ft _4jy0 _4jy3 _517h _51sy\" href=\"/messages/t/armen.yeritsyan.5/\" ajaxify=\"/ajax/messaging/composer.php?ids%5B0%5D=100000074557033&amp;ref=gml\" rel=\"dialog\" id=\"u_0_43\"><i class=\"_3-8_ img sp_CCm7xfUVq_I sx_aecd3d\"></i>Message</a></div>\n",
        "                        <div class=\"rfloat _ohf\"><span id=\"resendInvite_100000074557033\"><div class=\"_6a _6b uiPopover\" id=\"u_0_44\"><button value=\"1\" class=\"_42ft _4jy0 _62qi _60rl _p _4jy3 _517h _51sy\" aria-label=\"Member Settings\" data-testid=\"admin_action_menu_button-all_members-100000074557033\" aria-haspopup=\"true\" aria-expanded=\"false\" type=\"submit\" id=\"u_0_45\" role=\"button\"><i class=\"img sp_yKIerHEVDxg sx_0b6344\"><u>3-dots-h</u></i></button></div></span></div>\n",
        "                    </div>\n",
        "                </div>\n",
        "            </div>\n",
        "            <div class=\"uiProfileBlockContent _61ce\">\n",
        "                <div class=\"_6a\">\n",
        "                    <div class=\"_6a _6b\" style=\"height:72px\"></div>\n",
        "                    <div class=\"_6a _6b\">\n",
        "                        <div class=\"_60ri\"><a ajaxify=\"/groups/member/?group_id=322855534791779&amp;member_id=100000074557033&amp;ref=MEMBER_LIST\" rel=\"dialog\" title=\"Armen Yeritsyan\" href=\"https://www.facebook.com/armen.yeritsyan.5?fref=gm&amp;__tn__=%2Cd-_-R&amp;eid=ARBJEHvawHtMP7l4rYAYKkROpAEAGen7NtApmj0XSTlounAOYaqwEM9RXLkQh19Wqiue4HWSCC7Mzb9a&amp;dti=322855534791779&amp;hc_location=group\" data-hovercard=\"/ajax/hovercard/user.php?id=100000074557033&amp;extragetparams=%7B%22__tn__%22%3A%22%2Cd-_-R%22%2C%22eid%22%3A%22ARBJEHvawHtMP7l4rYAYKkROpAEAGen7NtApmj0XSTlounAOYaqwEM9RXLkQh19Wqiue4HWSCC7Mzb9a%22%2C%22fref%22%3A%22gm%22%2C%22directed_target_id%22%3A322855534791779%2C%22dti%22%3A322855534791779%2C%22hc_location%22%3A%22group%22%7D\" data-hovercard-prefer-more-content-show=\"1\" role=\"button\">Armen Yeritsyan</a></div>\n",
        "                        <div class=\"_60rj\">Added by Mikaël Monjour on December 1, 2017</div>\n",
        "                        <div class=\"_60rj\"></div>\n",
        "                    </div>\n",
        "                </div>\n",
        "            </div>\n",
        "        </div>\n",
        "    </div>\n",
        "    <div class=\"clearfix _60rh _gse\" id=\"all_members_524650217\" data-ft=\"{&quot;tn&quot;:&quot;-_&quot;}\" data-name=\"GroupProfileGridItem\" data-testid=\"GroupMember_524650217\">\n",
        "        <a class=\"_60rg _8o _8r lfloat _ohe\" ajaxify=\"/groups/member/?group_id=322855534791779&amp;member_id=524650217&amp;ref=MEMBER_LIST\" rel=\"dialog\" title=\"Hichem Rouabhi\" tabindex=\"-1\" aria-hidden=\"true\" href=\"https://www.facebook.com/rouabhi.h?fref=gm&amp;__tn__=%2Cd-_-R&amp;eid=ARDPcEOFUsVE0bc59FuQ4_cvQZaTFZCuxmyFGenBB5K1gElEA0Me_qnfx-pmDCAGEOsSpRXz_iqfWt6S&amp;dti=322855534791779&amp;hc_location=group\" data-hovercard=\"/ajax/hovercard/user.php?id=524650217&amp;extragetparams=%7B%22__tn__%22%3A%22%2Cd-_-R%22%2C%22eid%22%3A%22ARDPcEOFUsVE0bc59FuQ4_cvQZaTFZCuxmyFGenBB5K1gElEA0Me_qnfx-pmDCAGEOsSpRXz_iqfWt6S%22%2C%22fref%22%3A%22gm%22%2C%22directed_target_id%22%3A322855534791779%2C%22dti%22%3A322855534791779%2C%22hc_location%22%3A%22group%22%7D\" data-hovercard-prefer-more-content-show=\"1\" role=\"button\"><img class=\"_s0 _4ooo img\" src=\"https://scontent-cdg2-1.xx.fbcdn.net/v/t1.0-1/cp0/p74x74/69970768_10157373361050218_8871102152131477504_n.jpg?_nc_cat=107&amp;_nc_sid=dbb9e7&amp;_nc_oc=AQnxKetk5Ka-XFdhbe2wjy4jUwDg473WIy7OHpoCPdmviV12TrsqjDwi3oXnmwmj6nHyvKvR6LL6qjDTwP5qCQdR&amp;_nc_ht=scontent-cdg2-1.xx&amp;oh=cd56d6b1c671abd63ae7d3eee3d8d998&amp;oe=5E9B7FFE\" alt=\"\" aria-label=\"Hichem Rouabhi\" role=\"img\" style=\"width:72px;height:72px\"></a>\n",
        "        <div class=\"clearfix _8u _42ef\">\n",
        "            <div class=\"_6a rfloat _ohf\">\n",
        "                <div class=\"_6a _6b\" style=\"height:72px\"></div>\n",
        "                <div class=\"_6a _6b\">\n",
        "                    <div class=\"clearfix _4eo_\">\n",
        "                        <div class=\"lfloat _ohe\"><a role=\"button\" class=\"_42ft _4jy0 _4jy3 _517h _51sy\" href=\"/messages/t/rouabhi.h/\" ajaxify=\"/ajax/messaging/composer.php?ids%5B0%5D=524650217&amp;ref=gml\" rel=\"dialog\" id=\"u_0_46\"><i class=\"_3-8_ img sp_CCm7xfUVq_I sx_aecd3d\"></i>Message</a></div>\n",
        "                        <div class=\"rfloat _ohf\"><span id=\"resendInvite_524650217\"><div class=\"_6a _6b uiPopover\" id=\"u_0_47\"><button value=\"1\" class=\"_42ft _4jy0 _62qi _60rl _p _4jy3 _517h _51sy\" aria-label=\"Member Settings\" data-testid=\"admin_action_menu_button-all_members-524650217\" aria-haspopup=\"true\" aria-expanded=\"false\" type=\"submit\" id=\"u_0_48\" role=\"button\"><i class=\"img sp_yKIerHEVDxg sx_0b6344\"><u>3-dots-h</u></i></button></div></span></div>\n",
        "                    </div>\n",
        "                </div>\n",
        "            </div>\n",
        "            <div class=\"uiProfileBlockContent _61ce\">\n",
        "                <div class=\"_6a\">\n",
        "                    <div class=\"_6a _6b\" style=\"height:72px\"></div>\n",
        "                    <div class=\"_6a _6b\">\n",
        "                        <div class=\"_60ri\"><a ajaxify=\"/groups/member/?group_id=322855534791779&amp;member_id=524650217&amp;ref=MEMBER_LIST\" rel=\"dialog\" title=\"Hichem Rouabhi\" href=\"https://www.facebook.com/rouabhi.h?fref=gm&amp;__tn__=%2Cd-_-R&amp;eid=ARDOBwi5FwXDX4aAdlnqKRxbU4Add_Lhvhze1q9cPFaVrZNVaRwaBQEpPnDgUlnh7QZL18kTNRTraBXj&amp;dti=322855534791779&amp;hc_location=group\" data-hovercard=\"/ajax/hovercard/user.php?id=524650217&amp;extragetparams=%7B%22__tn__%22%3A%22%2Cd-_-R%22%2C%22eid%22%3A%22ARDOBwi5FwXDX4aAdlnqKRxbU4Add_Lhvhze1q9cPFaVrZNVaRwaBQEpPnDgUlnh7QZL18kTNRTraBXj%22%2C%22fref%22%3A%22gm%22%2C%22directed_target_id%22%3A322855534791779%2C%22dti%22%3A322855534791779%2C%22hc_location%22%3A%22group%22%7D\" data-hovercard-prefer-more-content-show=\"1\" role=\"button\">Hichem Rouabhi</a></div>\n",
        "                        <div class=\"_60rj\"><abbr data-utime=\"1546795804\" title=\"Sunday, January 6, 2019 at 6:30 PM\" class=\"timestamp\"><span class=\"timestampContent\">Joined about a year ago</span></abbr></div>\n",
        "                        <div class=\"_60rj\">Directeur Général at Beaver digital factory</div>\n",
        "                    </div>\n",
        "                </div>\n",
        "            </div>\n",
        "        </div>\n",
        "    </div>\n",
        "    <div class=\"clearfix _60rh _gse\" id=\"all_members_1270790984\" data-ft=\"{&quot;tn&quot;:&quot;-_&quot;}\" data-name=\"GroupProfileGridItem\" data-testid=\"GroupMember_1270790984\">\n",
        "        <a class=\"_60rg _8o _8r lfloat _ohe\" ajaxify=\"/groups/member/?group_id=322855534791779&amp;member_id=1270790984&amp;ref=MEMBER_LIST\" rel=\"dialog\" title=\"Mélanie Almeida\" tabindex=\"-1\" aria-hidden=\"true\" href=\"https://www.facebook.com/melanie.almeida.98?fref=gm&amp;__tn__=%2Cd-_-R&amp;eid=ARAXNegH7RTpl3ZxJPNQhqUjG_bol5Mz88RbxMfbwu8iWwDfKIT5WdQEbKbS_9C9ZSYtYllE6M1sl1Ou&amp;dti=322855534791779&amp;hc_location=group\" data-hovercard=\"/ajax/hovercard/user.php?id=1270790984&amp;extragetparams=%7B%22__tn__%22%3A%22%2Cd-_-R%22%2C%22eid%22%3A%22ARAXNegH7RTpl3ZxJPNQhqUjG_bol5Mz88RbxMfbwu8iWwDfKIT5WdQEbKbS_9C9ZSYtYllE6M1sl1Ou%22%2C%22fref%22%3A%22gm%22%2C%22directed_target_id%22%3A322855534791779%2C%22dti%22%3A322855534791779%2C%22hc_location%22%3A%22group%22%7D\" data-hovercard-prefer-more-content-show=\"1\" role=\"button\"><img class=\"_s0 _4ooo img\" src=\"https://scontent-cdg2-1.xx.fbcdn.net/v/t1.0-1/cp0/c6.8.73.72a/p80x80/385589_3985454636033_1656637437_n.jpg?_nc_cat=104&amp;_nc_sid=dbb9e7&amp;_nc_oc=AQl-1q66ZCfZOHLCNqSkxUdIm3JQqVbDGFJXUjEljvIjcJaHe1g_rbj6RajjPX4Ne1G-zoT10CaUnOK5hLaZdIK6&amp;_nc_ht=scontent-cdg2-1.xx&amp;oh=6fcd92bc0077d3b068c10034e2ead706&amp;oe=5E98A2EA\" alt=\"\" aria-label=\"Mélanie Almeida\" role=\"img\" style=\"width:72px;height:72px\"></a>\n",
        "        <div class=\"clearfix _8u _42ef\">\n",
        "            <div class=\"_6a rfloat _ohf\">\n",
        "                <div class=\"_6a _6b\" style=\"height:72px\"></div>\n",
        "                <div class=\"_6a _6b\">\n",
        "                    <div class=\"clearfix _4eo_\">\n",
        "                        <div class=\"lfloat _ohe\"><a role=\"button\" class=\"_42ft _4jy0 _4jy3 _517h _51sy\" href=\"/messages/t/melanie.almeida.98/\" ajaxify=\"/ajax/messaging/composer.php?ids%5B0%5D=1270790984&amp;ref=gml\" rel=\"dialog\" id=\"u_0_49\"><i class=\"_3-8_ img sp_CCm7xfUVq_I sx_aecd3d\"></i>Message</a></div>\n",
        "                        <div class=\"rfloat _ohf\"><span id=\"resendInvite_1270790984\"><div class=\"_6a _6b uiPopover\" id=\"u_0_4a\"><button value=\"1\" class=\"_42ft _4jy0 _62qi _60rl _p _4jy3 _517h _51sy\" aria-label=\"Member Settings\" data-testid=\"admin_action_menu_button-all_members-1270790984\" aria-haspopup=\"true\" aria-expanded=\"false\" type=\"submit\" id=\"u_0_4b\" role=\"button\"><i class=\"img sp_yKIerHEVDxg sx_0b6344\"><u>3-dots-h</u></i></button></div></span></div>\n",
        "                    </div>\n",
        "                </div>\n",
        "            </div>\n",
        "            <div class=\"uiProfileBlockContent _61ce\">\n",
        "                <div class=\"_6a\">\n",
        "                    <div class=\"_6a _6b\" style=\"height:72px\"></div>\n",
        "                    <div class=\"_6a _6b\">\n",
        "                        <div class=\"_60ri\"><a ajaxify=\"/groups/member/?group_id=322855534791779&amp;member_id=1270790984&amp;ref=MEMBER_LIST\" rel=\"dialog\" title=\"Mélanie Almeida\" href=\"https://www.facebook.com/melanie.almeida.98?fref=gm&amp;__tn__=%2Cd-_-R&amp;eid=ARAyMtomLdYygz-28qTTs2SiCKbqz3dHrjTlDFh2md-tbx8As-8tJ8BWUlRlDIWbPXITnY0CyRU_eOSk&amp;dti=322855534791779&amp;hc_location=group\" data-hovercard=\"/ajax/hovercard/user.php?id=1270790984&amp;extragetparams=%7B%22__tn__%22%3A%22%2Cd-_-R%22%2C%22eid%22%3A%22ARAyMtomLdYygz-28qTTs2SiCKbqz3dHrjTlDFh2md-tbx8As-8tJ8BWUlRlDIWbPXITnY0CyRU_eOSk%22%2C%22fref%22%3A%22gm%22%2C%22directed_target_id%22%3A322855534791779%2C%22dti%22%3A322855534791779%2C%22hc_location%22%3A%22group%22%7D\" data-hovercard-prefer-more-content-show=\"1\" role=\"button\">Mélanie Almeida</a></div>\n",
        "                        <div class=\"_60rj\">Added by Mikaël Monjour on September 17, 2019</div>\n",
        "                        <div class=\"_60rj\">Essec</div>\n",
        "                    </div>\n",
        "                </div>\n",
        "            </div>\n",
        "        </div>\n",
        "    </div>\n",
        "    <div class=\"clearfix _60rh _gse\" id=\"all_members_100000686692885\" data-ft=\"{&quot;tn&quot;:&quot;-_&quot;}\" data-name=\"GroupProfileGridItem\" data-testid=\"GroupMember_100000686692885\">\n",
        "        <a class=\"_60rg _8o _8r lfloat _ohe\" ajaxify=\"/groups/member/?group_id=322855534791779&amp;member_id=100000686692885&amp;ref=MEMBER_LIST\" rel=\"dialog\" title=\"Camille Mathis\" tabindex=\"-1\" aria-hidden=\"true\" href=\"https://www.facebook.com/camille.mathis2?fref=gm&amp;__tn__=%2Cd-_-R&amp;eid=ARA9j7P8THi3198v-SNLCe_Z6p0Clk4MYmeQwjbkvO1ftlaNJq6y5KieRvfCWDesKIaNJq8oNQD5T2Ur&amp;dti=322855534791779&amp;hc_location=group\" data-hovercard=\"/ajax/hovercard/user.php?id=100000686692885&amp;extragetparams=%7B%22__tn__%22%3A%22%2Cd-_-R%22%2C%22eid%22%3A%22ARA9j7P8THi3198v-SNLCe_Z6p0Clk4MYmeQwjbkvO1ftlaNJq6y5KieRvfCWDesKIaNJq8oNQD5T2Ur%22%2C%22fref%22%3A%22gm%22%2C%22directed_target_id%22%3A322855534791779%2C%22dti%22%3A322855534791779%2C%22hc_location%22%3A%22group%22%7D\" data-hovercard-prefer-more-content-show=\"1\" role=\"button\"><img class=\"_s0 _4ooo img\" src=\"https://scontent-cdg2-1.xx.fbcdn.net/v/t1.0-1/cp0/p74x74/68507591_2640511429315054_4738254916479352832_n.jpg?_nc_cat=100&amp;_nc_sid=dbb9e7&amp;_nc_oc=AQnQZMQdvvgX5DitfxFkClsQ7Py6mmuQGhmXj4J9Ba6c5TitRDdaHUFavbCIE3CRxPG06ELnzKBnJlRmdZ_KrEvf&amp;_nc_ht=scontent-cdg2-1.xx&amp;oh=1539cf54c1042dc16c810d31d85a903a&amp;oe=5E9BEAE1\" alt=\"\" aria-label=\"Camille Mathis\" role=\"img\" style=\"width:72px;height:72px\"></a>\n",
        "        <div class=\"clearfix _8u _42ef\">\n",
        "            <div class=\"_6a rfloat _ohf\">\n",
        "                <div class=\"_6a _6b\" style=\"height:72px\"></div>\n",
        "                <div class=\"_6a _6b\">\n",
        "                    <div class=\"clearfix _4eo_\">\n",
        "                        <div class=\"lfloat _ohe\"><a role=\"button\" class=\"_42ft _4jy0 _4jy3 _517h _51sy\" href=\"/messages/t/camille.mathis2/\" ajaxify=\"/ajax/messaging/composer.php?ids%5B0%5D=100000686692885&amp;ref=gml\" rel=\"dialog\" id=\"u_0_4c\"><i class=\"_3-8_ img sp_CCm7xfUVq_I sx_aecd3d\"></i>Message</a></div>\n",
        "                        <div class=\"rfloat _ohf\"><span id=\"resendInvite_100000686692885\"><div class=\"_6a _6b uiPopover\" id=\"u_0_4d\"><button value=\"1\" class=\"_42ft _4jy0 _62qi _60rl _p _4jy3 _517h _51sy\" aria-label=\"Member Settings\" data-testid=\"admin_action_menu_button-all_members-100000686692885\" aria-haspopup=\"true\" aria-expanded=\"false\" type=\"submit\" id=\"u_0_4e\" role=\"button\"><i class=\"img sp_yKIerHEVDxg sx_0b6344\"><u>3-dots-h</u></i></button></div></span></div>\n",
        "                    </div>\n",
        "                </div>\n",
        "            </div>\n",
        "            <div class=\"uiProfileBlockContent _61ce\">\n",
        "                <div class=\"_6a\">\n",
        "                    <div class=\"_6a _6b\" style=\"height:72px\"></div>\n",
        "                    <div class=\"_6a _6b\">\n",
        "                        <div class=\"_60ri\"><a ajaxify=\"/groups/member/?group_id=322855534791779&amp;member_id=100000686692885&amp;ref=MEMBER_LIST\" rel=\"dialog\" title=\"Camille Mathis\" href=\"https://www.facebook.com/camille.mathis2?fref=gm&amp;__tn__=%2Cd-_-R&amp;eid=ARB3bVGgBOh8oB-kaL0ZI7ndOR3xR6rGYcaTnWVfYt8NJfySsT1ths6AgKOv0YcR1UpsSf8g1TSacE35&amp;dti=322855534791779&amp;hc_location=group\" data-hovercard=\"/ajax/hovercard/user.php?id=100000686692885&amp;extragetparams=%7B%22__tn__%22%3A%22%2Cd-_-R%22%2C%22eid%22%3A%22ARB3bVGgBOh8oB-kaL0ZI7ndOR3xR6rGYcaTnWVfYt8NJfySsT1ths6AgKOv0YcR1UpsSf8g1TSacE35%22%2C%22fref%22%3A%22gm%22%2C%22directed_target_id%22%3A322855534791779%2C%22dti%22%3A322855534791779%2C%22hc_location%22%3A%22group%22%7D\" data-hovercard-prefer-more-content-show=\"1\" role=\"button\">Camille Mathis</a></div>\n",
        "                        <div class=\"_60rj\"><abbr data-utime=\"1530761104\" title=\"Thursday, July 5, 2018 at 5:25 AM\" class=\"timestamp\"><span class=\"timestampContent\">Joined about 2 years ago</span></abbr></div>\n",
        "                        <div class=\"_60rj\">CEO at Conquistadors</div>\n",
        "                    </div>\n",
        "                </div>\n",
        "            </div>\n",
        "        </div>\n",
        "    </div>\n",
        "    <div class=\"clearfix _60rh _gse\" id=\"all_members_1325481810\" data-ft=\"{&quot;tn&quot;:&quot;-_&quot;}\" data-name=\"GroupProfileGridItem\" data-testid=\"GroupMember_1325481810\">\n",
        "        <a class=\"_60rg _8o _8r lfloat _ohe\" ajaxify=\"/groups/member/?group_id=322855534791779&amp;member_id=1325481810&amp;ref=MEMBER_LIST\" rel=\"dialog\" title=\"Iris de Villars\" tabindex=\"-1\" aria-hidden=\"true\" href=\"https://www.facebook.com/iris.devlrs?fref=gm&amp;__tn__=%2Cd-_-R&amp;eid=ARDwACP9h68J0XGENtgEkADbgrMnz6_qowVNrzgab_BqXV6pK5v0n5K0qfqASQKZ5apLgifvrybzDi9u&amp;dti=322855534791779&amp;hc_location=group\" data-hovercard=\"/ajax/hovercard/user.php?id=1325481810&amp;extragetparams=%7B%22__tn__%22%3A%22%2Cd-_-R%22%2C%22eid%22%3A%22ARDwACP9h68J0XGENtgEkADbgrMnz6_qowVNrzgab_BqXV6pK5v0n5K0qfqASQKZ5apLgifvrybzDi9u%22%2C%22fref%22%3A%22gm%22%2C%22directed_target_id%22%3A322855534791779%2C%22dti%22%3A322855534791779%2C%22hc_location%22%3A%22group%22%7D\" data-hovercard-prefer-more-content-show=\"1\" role=\"button\"><img class=\"_s0 _4ooo img\" src=\"https://scontent-cdg2-1.xx.fbcdn.net/v/t1.0-1/cp0/p74x74/20914378_10213866919730235_7685644193571725251_n.jpg?_nc_cat=109&amp;_nc_sid=dbb9e7&amp;_nc_oc=AQlI-dDAZoWe8wdOLQ-VC2ubg2Cmw3LCLl70Ffkdek7eULVR3Ecma4kxJKPXhww530XXL-yforJB-rK_GtvpaB5v&amp;_nc_ht=scontent-cdg2-1.xx&amp;oh=7d714d4d44aaf8a4d008c90431c8f43f&amp;oe=5E9A9B73\" alt=\"\" aria-label=\"Iris de Villars\" role=\"img\" style=\"width:72px;height:72px\"></a>\n",
        "        <div class=\"clearfix _8u _42ef\">\n",
        "            <div class=\"_6a rfloat _ohf\">\n",
        "                <div class=\"_6a _6b\" style=\"height:72px\"></div>\n",
        "                <div class=\"_6a _6b\">\n",
        "                    <div class=\"clearfix _4eo_\">\n",
        "                        <div class=\"lfloat _ohe\"><a role=\"button\" class=\"_42ft _4jy0 _4jy3 _517h _51sy\" href=\"/messages/t/iris.devlrs/\" ajaxify=\"/ajax/messaging/composer.php?ids%5B0%5D=1325481810&amp;ref=gml\" rel=\"dialog\" id=\"u_0_4f\"><i class=\"_3-8_ img sp_CCm7xfUVq_I sx_aecd3d\"></i>Message</a></div>\n",
        "                        <div class=\"rfloat _ohf\"><span id=\"resendInvite_1325481810\"><div class=\"_6a _6b uiPopover\" id=\"u_0_4g\"><button value=\"1\" class=\"_42ft _4jy0 _62qi _60rl _p _4jy3 _517h _51sy\" aria-label=\"Member Settings\" data-testid=\"admin_action_menu_button-all_members-1325481810\" aria-haspopup=\"true\" aria-expanded=\"false\" type=\"submit\" id=\"u_0_4h\" role=\"button\"><i class=\"img sp_yKIerHEVDxg sx_0b6344\"><u>3-dots-h</u></i></button></div></span></div>\n",
        "                    </div>\n",
        "                </div>\n",
        "            </div>\n",
        "            <div class=\"uiProfileBlockContent _61ce\">\n",
        "                <div class=\"_6a\">\n",
        "                    <div class=\"_6a _6b\" style=\"height:72px\"></div>\n",
        "                    <div class=\"_6a _6b\">\n",
        "                        <div class=\"_60ri\"><a ajaxify=\"/groups/member/?group_id=322855534791779&amp;member_id=1325481810&amp;ref=MEMBER_LIST\" rel=\"dialog\" title=\"Iris de Villars\" href=\"https://www.facebook.com/iris.devlrs?fref=gm&amp;__tn__=%2Cd-_-R&amp;eid=ARB5hc-qbYQ0jx2Zck65jO4crSDGAODafZ9CZVd0DuG3ug56kGqPshNu0JcT4QqgdTOw8w_rMbmj16k4&amp;dti=322855534791779&amp;hc_location=group\" data-hovercard=\"/ajax/hovercard/user.php?id=1325481810&amp;extragetparams=%7B%22__tn__%22%3A%22%2Cd-_-R%22%2C%22eid%22%3A%22ARB5hc-qbYQ0jx2Zck65jO4crSDGAODafZ9CZVd0DuG3ug56kGqPshNu0JcT4QqgdTOw8w_rMbmj16k4%22%2C%22fref%22%3A%22gm%22%2C%22directed_target_id%22%3A322855534791779%2C%22dti%22%3A322855534791779%2C%22hc_location%22%3A%22group%22%7D\" data-hovercard-prefer-more-content-show=\"1\" role=\"button\">Iris de Villars</a></div>\n",
        "                        <div class=\"_60rj\">Added by Mikaël Monjour on October 13, 2017</div>\n",
        "                        <div class=\"_60rj\">42</div>\n",
        "                    </div>\n",
        "                </div>\n",
        "            </div>\n",
        "        </div>\n",
        "    </div>\n",
        "    <div class=\"clearfix _60rh _gse\" id=\"all_members_100003027250156\" data-ft=\"{&quot;tn&quot;:&quot;-_&quot;}\" data-name=\"GroupProfileGridItem\" data-testid=\"GroupMember_100003027250156\">\n",
        "        <a class=\"_60rg _8o _8r lfloat _ohe\" ajaxify=\"/groups/member/?group_id=322855534791779&amp;member_id=100003027250156&amp;ref=MEMBER_LIST\" rel=\"dialog\" title=\"Yoro Bee\" tabindex=\"-1\" aria-hidden=\"true\" href=\"https://www.facebook.com/YojeDsign?fref=gm&amp;__tn__=%2Cd-_-R&amp;eid=ARBr9KmF-Vq2ucATSnk2yG2qRLA1E1YrdM_NHrYmiDN9oVwE-MlrAI6z8HNKWm1HljF8XvXWSf3eAYIe&amp;dti=322855534791779&amp;hc_location=group\" data-hovercard=\"/ajax/hovercard/user.php?id=100003027250156&amp;extragetparams=%7B%22__tn__%22%3A%22%2Cd-_-R%22%2C%22eid%22%3A%22ARBr9KmF-Vq2ucATSnk2yG2qRLA1E1YrdM_NHrYmiDN9oVwE-MlrAI6z8HNKWm1HljF8XvXWSf3eAYIe%22%2C%22fref%22%3A%22gm%22%2C%22directed_target_id%22%3A322855534791779%2C%22dti%22%3A322855534791779%2C%22hc_location%22%3A%22group%22%7D\" data-hovercard-prefer-more-content-show=\"1\" role=\"button\"><img class=\"_s0 _4ooo img\" src=\"https://scontent-cdg2-1.xx.fbcdn.net/v/t1.0-1/cp0/p74x74/72371142_2280343822076504_8586613959509934080_n.jpg?_nc_cat=110&amp;_nc_sid=dbb9e7&amp;_nc_oc=AQmQ_AnyR6xev6zkBPO890e995E42urALjgQyNihLDrYCXTohXFdIuVChFUA1WWZq7sGeqiZ6IpNPk4rJH0F9vaJ&amp;_nc_ht=scontent-cdg2-1.xx&amp;oh=74b3c39c42a07b4a9cd449719a3e4cec&amp;oe=5E9B04B6\" alt=\"\" aria-label=\"Yoro Bee\" role=\"img\" style=\"width:72px;height:72px\"></a>\n",
        "        <div class=\"clearfix _8u _42ef\">\n",
        "            <div class=\"_6a rfloat _ohf\">\n",
        "                <div class=\"_6a _6b\" style=\"height:72px\"></div>\n",
        "                <div class=\"_6a _6b\">\n",
        "                    <div class=\"clearfix _4eo_\">\n",
        "                        <div class=\"lfloat _ohe\"><a role=\"button\" class=\"_42ft _4jy0 _4jy3 _517h _51sy\" href=\"/messages/t/YojeDsign/\" ajaxify=\"/ajax/messaging/composer.php?ids%5B0%5D=100003027250156&amp;ref=gml\" rel=\"dialog\" id=\"u_0_4i\"><i class=\"_3-8_ img sp_CCm7xfUVq_I sx_aecd3d\"></i>Message</a></div>\n",
        "                        <div class=\"rfloat _ohf\"><span id=\"resendInvite_100003027250156\"><div class=\"_6a _6b uiPopover\" id=\"u_0_4j\"><button value=\"1\" class=\"_42ft _4jy0 _62qi _60rl _p _4jy3 _517h _51sy\" aria-label=\"Member Settings\" data-testid=\"admin_action_menu_button-all_members-100003027250156\" aria-haspopup=\"true\" aria-expanded=\"false\" type=\"submit\" id=\"u_0_4k\" role=\"button\"><i class=\"img sp_yKIerHEVDxg sx_0b6344\"><u>3-dots-h</u></i></button></div></span></div>\n",
        "                    </div>\n",
        "                </div>\n",
        "            </div>\n",
        "            <div class=\"uiProfileBlockContent _61ce\">\n",
        "                <div class=\"_6a\">\n",
        "                    <div class=\"_6a _6b\" style=\"height:72px\"></div>\n",
        "                    <div class=\"_6a _6b\">\n",
        "                        <div class=\"_60ri\"><a ajaxify=\"/groups/member/?group_id=322855534791779&amp;member_id=100003027250156&amp;ref=MEMBER_LIST\" rel=\"dialog\" title=\"Yoro Bee\" href=\"https://www.facebook.com/YojeDsign?fref=gm&amp;__tn__=%2Cd-_-R&amp;eid=ARB7tdN7KJUQuZobz---u1zB7akekSkLIRRXacR9AqviUEtVUuzZ6hOouGvbiOoxiKQ-C-FOoRYEylDw&amp;dti=322855534791779&amp;hc_location=group\" data-hovercard=\"/ajax/hovercard/user.php?id=100003027250156&amp;extragetparams=%7B%22__tn__%22%3A%22%2Cd-_-R%22%2C%22eid%22%3A%22ARB7tdN7KJUQuZobz---u1zB7akekSkLIRRXacR9AqviUEtVUuzZ6hOouGvbiOoxiKQ-C-FOoRYEylDw%22%2C%22fref%22%3A%22gm%22%2C%22directed_target_id%22%3A322855534791779%2C%22dti%22%3A322855534791779%2C%22hc_location%22%3A%22group%22%7D\" data-hovercard-prefer-more-content-show=\"1\" role=\"button\">Yoro Bee</a></div>\n",
        "                        <div class=\"_60rj\"><abbr data-utime=\"1571411529\" title=\"Friday, October 18, 2019 at 5:12 PM\" class=\"timestamp\"><span class=\"timestampContent\">Joined about 5 months ago</span></abbr></div>\n",
        "                        <div class=\"_60rj\">Chief Catalyst at Connectx Global</div>\n",
        "                    </div>\n",
        "                </div>\n",
        "            </div>\n",
        "        </div>\n",
        "    </div>\n",
        "</ul>\n",
        "<div class=\"clearfix mam uiMorePager stat_elem morePager _52jv\" id=\"u_0_1s\">\n",
        "    <div><a href=\"/ajax/browser/list/group_confirmed_members/?gid=322855534791779&amp;order=default&amp;view=list&amp;limit=15&amp;sectiontype=all_members&amp;cursor=AQHRi_2gJkhNNFFryzChGaBX1SNGYtHMXGzbHfVoeaxpDB_g6KDLMG0yxnxst97Q2nSUgEfaqNGzR6rCVZixxzRjTg&amp;start=15&amp;av=100004497343792\" rel=\"async\" id=\"u_0_1t\" class=\"pam uiBoxLightblue uiMorePagerPrimary\">See More</a><span class=\"uiMorePagerLoader pam uiBoxLightblue\"><img class=\"img\" src=\"https://static.xx.fbcdn.net/rsrc.php/v3/yb/r/GsNJNwuI-UM.gif\" alt=\"\" width=\"16\" height=\"11\"></span></div>\n",
        "</div>\"\"\""
      ],
      "execution_count": 0,
      "outputs": []
    },
    {
      "cell_type": "markdown",
      "metadata": {
        "id": "dl7xXpSX4hyA",
        "colab_type": "text"
      },
      "source": [
        "# 4 - INSTALLER PYQUERY"
      ]
    },
    {
      "cell_type": "code",
      "metadata": {
        "id": "ogzE0hT04RN7",
        "colab_type": "code",
        "outputId": "e1501d2c-d636-43d6-ad87-147328217d88",
        "colab": {
          "base_uri": "https://localhost:8080/",
          "height": 68
        }
      },
      "source": [
        "!pip install pyquery"
      ],
      "execution_count": 0,
      "outputs": [
        {
          "output_type": "stream",
          "text": [
            "Requirement already satisfied: pyquery in /usr/local/lib/python3.6/dist-packages (1.4.1)\n",
            "Requirement already satisfied: cssselect>0.7.9 in /usr/local/lib/python3.6/dist-packages (from pyquery) (1.1.0)\n",
            "Requirement already satisfied: lxml>=2.1 in /usr/local/lib/python3.6/dist-packages (from pyquery) (4.2.6)\n"
          ],
          "name": "stdout"
        }
      ]
    },
    {
      "cell_type": "markdown",
      "metadata": {
        "id": "z1SArvp8XIi4",
        "colab_type": "text"
      },
      "source": [
        "# 5 - IMPORTER PYQUERY"
      ]
    },
    {
      "cell_type": "code",
      "metadata": {
        "id": "nJ3L9eRm5DuE",
        "colab_type": "code",
        "colab": {}
      },
      "source": [
        "from pyquery import PyQuery as pq"
      ],
      "execution_count": 0,
      "outputs": []
    },
    {
      "cell_type": "markdown",
      "metadata": {
        "id": "p8AV1xMjXN8L",
        "colab_type": "text"
      },
      "source": [
        "# 6 - RENDRE LISIBLE LE HTML PAR PYQUERY"
      ]
    },
    {
      "cell_type": "code",
      "metadata": {
        "id": "D2aB_g_05a3c",
        "colab_type": "code",
        "colab": {}
      },
      "source": [
        "d = pq(html)"
      ],
      "execution_count": 0,
      "outputs": []
    },
    {
      "cell_type": "markdown",
      "metadata": {
        "id": "tPtPrcDBXX2N",
        "colab_type": "text"
      },
      "source": [
        "# 7 - SELECTIONNER LA BONNE BALISE"
      ]
    },
    {
      "cell_type": "code",
      "metadata": {
        "id": "uqvzUMlU6Quy",
        "colab_type": "code",
        "outputId": "054c2d97-53ef-45ec-dc18-4007bd2e1c6d",
        "colab": {
          "base_uri": "https://localhost:8080/",
          "height": 54
        }
      },
      "source": [
        "d(\"._60rh\")"
      ],
      "execution_count": 0,
      "outputs": [
        {
          "output_type": "execute_result",
          "data": {
            "text/plain": [
              "[<div#all_members_100004497343792.clearfix._60rh._gse>, <div#all_members_100024900753255.clearfix._60rh._gse>, <div#all_members_100020299845509.clearfix._60rh._gse>, <div#all_members_684259739.clearfix._60rh._gse>, <div#all_members_100001410897754.clearfix._60rh._gse>, <div#all_members_679030123.clearfix._60rh._gse>, <div#all_members_100009396594031.clearfix._60rh._gse>, <div#all_members_100007342380545.clearfix._60rh._gse>, <div#all_members_1074327337.clearfix._60rh._gse>, <div#all_members_100000074557033.clearfix._60rh._gse>, <div#all_members_524650217.clearfix._60rh._gse>, <div#all_members_1270790984.clearfix._60rh._gse>, <div#all_members_100000686692885.clearfix._60rh._gse>, <div#all_members_1325481810.clearfix._60rh._gse>, <div#all_members_100003027250156.clearfix._60rh._gse>]"
            ]
          },
          "metadata": {
            "tags": []
          },
          "execution_count": 73
        }
      ]
    },
    {
      "cell_type": "markdown",
      "metadata": {
        "id": "MBBI8RUeE7ZO",
        "colab_type": "text"
      },
      "source": [
        "On essaye de trouver l'élément le plus proche en matière de données intéréssantes"
      ]
    },
    {
      "cell_type": "markdown",
      "metadata": {
        "id": "xq67BxgeFEGH",
        "colab_type": "text"
      },
      "source": [
        "Pour cela on choisit de recupérer uniquement toutes les balises a ayant une classe _ohe"
      ]
    },
    {
      "cell_type": "markdown",
      "metadata": {
        "id": "5uJ30tYXFUP4",
        "colab_type": "text"
      },
      "source": [
        "Pour selectioner les éléments enfants _ohe de a il est souhaitable de mettre un a._ohe pour déclarer que nous voulons uniquement les enfants de a qui possèdent la classe ._ohe "
      ]
    },
    {
      "cell_type": "code",
      "metadata": {
        "id": "QDovcW1Z6u9m",
        "colab_type": "code",
        "outputId": "519683c6-02ed-4a90-f631-cdb3c1e28ec4",
        "colab": {
          "base_uri": "https://localhost:8080/",
          "height": 547
        }
      },
      "source": [
        "for i in d.items(\"a._ohe\"):\n",
        "  print(i)"
      ],
      "execution_count": 0,
      "outputs": [
        {
          "output_type": "stream",
          "text": [
            "<a class=\"_60rg _8o _8r lfloat _ohe\" ajaxify=\"/groups/member/?group_id=322855534791779&amp;member_id=100004497343792&amp;ref=MEMBER_LIST\" rel=\"dialog\" title=\"Mika&#xEB;l Monjour\" tabindex=\"-1\" aria-hidden=\"true\" href=\"https://www.facebook.com/mikael.monjour?fref=gm&amp;__tn__=%2Cd-_-R&amp;eid=ARCeQhUgWuS-cHfGsfyXoyQnlA1b_rFz1opgRN1XfoxTKWRY8VTskQDSIjXY3163vNF4ve4PcV0XqGqu&amp;dti=322855534791779&amp;hc_location=group\" data-hovercard=\"/ajax/hovercard/user.php?id=100004497343792&amp;extragetparams=%7B%22__tn__%22%3A%22%2Cd-_-R%22%2C%22eid%22%3A%22ARCeQhUgWuS-cHfGsfyXoyQnlA1b_rFz1opgRN1XfoxTKWRY8VTskQDSIjXY3163vNF4ve4PcV0XqGqu%22%2C%22fref%22%3A%22gm%22%2C%22directed_target_id%22%3A322855534791779%2C%22dti%22%3A322855534791779%2C%22hc_location%22%3A%22group%22%7D\" data-hovercard-prefer-more-content-show=\"1\" role=\"button\"><img class=\"_s0 _4ooo img\" src=\"https://scontent-cdg2-1.xx.fbcdn.net/v/t1.0-1/cp0/p74x74/48371477_1180080845485149_2577301250311716864_n.jpg?_nc_cat=110&amp;_nc_sid=dbb9e7&amp;_nc_oc=AQnKz2u6npVDR93muzzIJAQvZ_wyT6pu83y6FvrZ0wuYkjdH2vGv1Ernjk7sv4-de-JW_Um5eG6Mt0AoNRykiTdX&amp;_nc_ht=scontent-cdg2-1.xx&amp;oh=74e54c1df8d42b31e55ec3ef5fb5fd27&amp;oe=5E995AFE\" alt=\"\" aria-label=\"Mikaël Monjour\" role=\"img\" style=\"width:72px;height:72px\"/></a>\n",
            "        \n",
            "<a class=\"_60rg _8o _8r lfloat _ohe\" ajaxify=\"/groups/member/?group_id=322855534791779&amp;member_id=100024900753255&amp;ref=MEMBER_LIST\" rel=\"dialog\" title=\"Fabien David\" tabindex=\"-1\" aria-hidden=\"true\" href=\"https://www.facebook.com/fabien.david.37017?fref=gm&amp;__tn__=%2Cd-_-R&amp;eid=ARDUn-2oj-n7DBtJm1uCwWKum5fEuFoOFCCyiZGf9dlP6UuABbDvAFSvMZihjH1lFfbbwqPs_6EwdX-_&amp;dti=322855534791779&amp;hc_location=group\" data-hovercard=\"/ajax/hovercard/user.php?id=100024900753255&amp;extragetparams=%7B%22__tn__%22%3A%22%2Cd-_-R%22%2C%22eid%22%3A%22ARDUn-2oj-n7DBtJm1uCwWKum5fEuFoOFCCyiZGf9dlP6UuABbDvAFSvMZihjH1lFfbbwqPs_6EwdX-_%22%2C%22fref%22%3A%22gm%22%2C%22directed_target_id%22%3A322855534791779%2C%22dti%22%3A322855534791779%2C%22hc_location%22%3A%22group%22%7D\" data-hovercard-prefer-more-content-show=\"1\" role=\"button\"><img class=\"_s0 _4ooo img\" src=\"https://scontent-cdg2-1.xx.fbcdn.net/v/t1.0-1/cp0/p74x74/89996042_641060763400610_3411054659886907392_n.jpg?_nc_cat=100&amp;_nc_sid=dbb9e7&amp;_nc_oc=AQmzV-t7eGHCBcvOj2OGr5gA5K-yk5TJQk5S3JUXoQvVOBiPkVAF0LXvJbeMVTepiWcK1Xc4EHT4iIKOe6U-vqCP&amp;_nc_ht=scontent-cdg2-1.xx&amp;oh=add4276cc2eed761d3280332b4f8e148&amp;oe=5E9B2846\" alt=\"\" aria-label=\"Fabien David\" role=\"img\" style=\"width:72px;height:72px\"/></a>\n",
            "        \n",
            "<a class=\"_60rg _8o _8r lfloat _ohe\" ajaxify=\"/groups/member/?group_id=322855534791779&amp;member_id=100020299845509&amp;ref=MEMBER_LIST\" rel=\"dialog\" title=\"Victor Leboda\" tabindex=\"-1\" aria-hidden=\"true\" href=\"https://www.facebook.com/VictorLebodapro?fref=gm&amp;__tn__=%2Cd-_-R&amp;eid=ARDpcDf2T8Q2HiKdPiIFBXKpedx8inigSLPc86FOmCPU-DwIjSj6ko96herWVZLP750cXsKYt0WCLGuN&amp;dti=322855534791779&amp;hc_location=group\" data-hovercard=\"/ajax/hovercard/user.php?id=100020299845509&amp;extragetparams=%7B%22__tn__%22%3A%22%2Cd-_-R%22%2C%22eid%22%3A%22ARDpcDf2T8Q2HiKdPiIFBXKpedx8inigSLPc86FOmCPU-DwIjSj6ko96herWVZLP750cXsKYt0WCLGuN%22%2C%22fref%22%3A%22gm%22%2C%22directed_target_id%22%3A322855534791779%2C%22dti%22%3A322855534791779%2C%22hc_location%22%3A%22group%22%7D\" data-hovercard-prefer-more-content-show=\"1\" role=\"button\"><img class=\"_s0 _4ooo img\" src=\"https://scontent-cdg2-1.xx.fbcdn.net/v/t1.0-1/cp0/p74x74/72189943_392918778061447_6516730195771129856_n.jpg?_nc_cat=110&amp;_nc_sid=dbb9e7&amp;_nc_oc=AQnjKrDByeIS2OLBshE5VPp1UMQ8iwpnk2iWJLLbdKl6ffgfpGIi536LUwPKyJcQ-fWZZpUiM5ynQ3vMubpEod4b&amp;_nc_ht=scontent-cdg2-1.xx&amp;oh=6b0301da6ea0e7216f629ce81ffec244&amp;oe=5E9A999C\" alt=\"\" aria-label=\"Victor Leboda\" role=\"img\" style=\"width:72px;height:72px\"/></a>\n",
            "        \n",
            "<a class=\"_60rg _8o _8r lfloat _ohe\" ajaxify=\"/groups/member/?group_id=322855534791779&amp;member_id=684259739&amp;ref=MEMBER_LIST\" rel=\"dialog\" title=\"Paul D'aura\" tabindex=\"-1\" aria-hidden=\"true\" href=\"https://www.facebook.com/paul.daura.7?fref=gm&amp;__tn__=%2Cd-_-R&amp;eid=ARDN1Rt8I56I8BCdlBsUEnvI2DE1rulPdlXML9Ujkb6e1VnwxyqGo5bx_bSx0XD4jWmY1q1PrQebIvqS&amp;dti=322855534791779&amp;hc_location=group\" data-hovercard=\"/ajax/hovercard/user.php?id=684259739&amp;extragetparams=%7B%22__tn__%22%3A%22%2Cd-_-R%22%2C%22eid%22%3A%22ARDN1Rt8I56I8BCdlBsUEnvI2DE1rulPdlXML9Ujkb6e1VnwxyqGo5bx_bSx0XD4jWmY1q1PrQebIvqS%22%2C%22fref%22%3A%22gm%22%2C%22directed_target_id%22%3A322855534791779%2C%22dti%22%3A322855534791779%2C%22hc_location%22%3A%22group%22%7D\" data-hovercard-prefer-more-content-show=\"1\" role=\"button\"><img class=\"_s0 _4ooo img\" src=\"https://scontent-cdt1-1.xx.fbcdn.net/v/t1.0-1/cp0/p74x74/60799431_10157334128359740_3731770820045832192_n.jpg?_nc_cat=106&amp;_nc_sid=dbb9e7&amp;_nc_oc=AQnObbo3t-3u8aX7cDY8xsLRaosZybvuDYvrPD2xqYf5ZVWkp24xPOumiga_9Zu3377Q7eYT_cS-JF_3xFpRGnF5&amp;_nc_ht=scontent-cdt1-1.xx&amp;oh=007a42a3bc6ae3ef2256d623e946efad&amp;oe=5E9C69A7\" alt=\"\" aria-label=\"Paul D'aura\" role=\"img\" style=\"width:72px;height:72px\"/></a>\n",
            "        \n",
            "<a class=\"_60rg _8o _8r lfloat _ohe\" ajaxify=\"/groups/member/?group_id=322855534791779&amp;member_id=100001410897754&amp;ref=MEMBER_LIST\" rel=\"dialog\" title=\"Pablo Guirao\" tabindex=\"-1\" aria-hidden=\"true\" href=\"https://www.facebook.com/pabloguiraoperso?fref=gm&amp;__tn__=%2Cd-_-R&amp;eid=ARBnU_DaxYhhg25RXdZb_BXrDvMfT2wPe3IqT5k-QbxLqOnZoD_msWKuL_lpH19zzXjq7Beea6MbM4ls&amp;dti=322855534791779&amp;hc_location=group\" data-hovercard=\"/ajax/hovercard/user.php?id=100001410897754&amp;extragetparams=%7B%22__tn__%22%3A%22%2Cd-_-R%22%2C%22eid%22%3A%22ARBnU_DaxYhhg25RXdZb_BXrDvMfT2wPe3IqT5k-QbxLqOnZoD_msWKuL_lpH19zzXjq7Beea6MbM4ls%22%2C%22fref%22%3A%22gm%22%2C%22directed_target_id%22%3A322855534791779%2C%22dti%22%3A322855534791779%2C%22hc_location%22%3A%22group%22%7D\" data-hovercard-prefer-more-content-show=\"1\" role=\"button\"><img class=\"_s0 _4ooo img\" src=\"https://scontent-cdg2-1.xx.fbcdn.net/v/t1.0-1/cp0/p74x74/64752633_2392172800839726_1594819153410129920_n.jpg?_nc_cat=108&amp;_nc_sid=dbb9e7&amp;_nc_oc=AQl3VwNaKKanAvUwEjr2eQxX39FxRgZ02WGDjUr2QcmH3Glo8iq2fFYyUKczTxy-4Z13YTNmoNMpF4fqZ7-bMyIT&amp;_nc_ht=scontent-cdg2-1.xx&amp;oh=d2f45f182b3d90ccb5f71b54567b1844&amp;oe=5E9A51D4\" alt=\"\" aria-label=\"Pablo Guirao\" role=\"img\" style=\"width:72px;height:72px\"/></a>\n",
            "        \n",
            "<a class=\"_60rg _8o _8r lfloat _ohe\" ajaxify=\"/groups/member/?group_id=322855534791779&amp;member_id=679030123&amp;ref=MEMBER_LIST\" rel=\"dialog\" title=\"Raph Az\" tabindex=\"-1\" aria-hidden=\"true\" href=\"https://www.facebook.com/raphael753?fref=gm&amp;__tn__=%2Cd-_-R&amp;eid=ARAYYwISJ9swkSkgj_c5uVBkT0ewVdxRPsqHptL4R99iP-T0LfLPcZoHzuTQUpkTq35WMz1pprHO10lr&amp;dti=322855534791779&amp;hc_location=group\" data-hovercard=\"/ajax/hovercard/user.php?id=679030123&amp;extragetparams=%7B%22__tn__%22%3A%22%2Cd-_-R%22%2C%22eid%22%3A%22ARAYYwISJ9swkSkgj_c5uVBkT0ewVdxRPsqHptL4R99iP-T0LfLPcZoHzuTQUpkTq35WMz1pprHO10lr%22%2C%22fref%22%3A%22gm%22%2C%22directed_target_id%22%3A322855534791779%2C%22dti%22%3A322855534791779%2C%22hc_location%22%3A%22group%22%7D\" data-hovercard-prefer-more-content-show=\"1\" role=\"button\"><img class=\"_s0 _4ooo img\" src=\"https://scontent-cdg2-1.xx.fbcdn.net/v/t1.0-1/cp0/c0.0.74.74a/p74x74/307401_10150266228915124_1938464_n.jpg?_nc_cat=104&amp;_nc_sid=dbb9e7&amp;_nc_oc=AQmJpdxorKPVxI5m9hkhJhpH6DBKImECfQT8mLoG0HytHy1JweOzwpOnb2JywnVcUbtXgsHZI5RQNldz4MqkjHoT&amp;_nc_ht=scontent-cdg2-1.xx&amp;oh=8b61d689092524dc3b1772aa3fbb9f0a&amp;oe=5E9AB9DB\" alt=\"\" aria-label=\"Raph Az\" role=\"img\" style=\"width:72px;height:72px\"/></a>\n",
            "        \n",
            "<a class=\"_60rg _8o _8r lfloat _ohe\" ajaxify=\"/groups/member/?group_id=322855534791779&amp;member_id=100009396594031&amp;ref=MEMBER_LIST\" rel=\"dialog\" title=\"Growth Hacking\" tabindex=\"-1\" aria-hidden=\"true\" href=\"https://www.facebook.com/growthhackingguru?fref=gm&amp;__tn__=%2Cd-_-R&amp;eid=ARAPCGHMV2OhjlBEr_hi-QV0bp5x__U1POntyufrz-ZG53S21EpP7Vas1jsprR-zr_BYP4PCAvuvWJdH&amp;dti=322855534791779&amp;hc_location=group\" data-hovercard=\"/ajax/hovercard/user.php?id=100009396594031&amp;extragetparams=%7B%22__tn__%22%3A%22%2Cd-_-R%22%2C%22eid%22%3A%22ARAPCGHMV2OhjlBEr_hi-QV0bp5x__U1POntyufrz-ZG53S21EpP7Vas1jsprR-zr_BYP4PCAvuvWJdH%22%2C%22fref%22%3A%22gm%22%2C%22directed_target_id%22%3A322855534791779%2C%22dti%22%3A322855534791779%2C%22hc_location%22%3A%22group%22%7D\" data-hovercard-prefer-more-content-show=\"1\" role=\"button\"><img class=\"_s0 _4ooo img\" src=\"https://scontent-cdg2-1.xx.fbcdn.net/v/t1.0-1/cp0/p74x74/84719521_2609604606029400_1645149598819287040_n.jpg?_nc_cat=107&amp;_nc_sid=dbb9e7&amp;_nc_oc=AQmWl5ruF9fuEiZDHVZlmOz16QL_OrnkvXXywhgqWEa3EE7e299o313suXWDFB12YSH08yQK3BBszTiuc_ziSy0l&amp;_nc_ht=scontent-cdg2-1.xx&amp;oh=e3f1a31e79e0a47c4a4500f7dd2db59b&amp;oe=5E9A3045\" alt=\"\" aria-label=\"Growth Hacking\" role=\"img\" style=\"width:72px;height:72px\"/></a>\n",
            "        \n",
            "<a class=\"_60rg _8o _8r lfloat _ohe\" ajaxify=\"/groups/member/?group_id=322855534791779&amp;member_id=100007342380545&amp;ref=MEMBER_LIST\" rel=\"dialog\" title=\"Gauthier Buttez\" tabindex=\"-1\" aria-hidden=\"true\" href=\"https://www.facebook.com/gauthier.buttez?fref=gm&amp;__tn__=%2Cd-_-R&amp;eid=ARCUwKHs-Qq2JtbS0jUZMwmykgQ2gI18N9vC66IW_-K6hd9ED3UjlghcOSl6XoS2_P837thvEbNP5eYk&amp;dti=322855534791779&amp;hc_location=group\" data-hovercard=\"/ajax/hovercard/user.php?id=100007342380545&amp;extragetparams=%7B%22__tn__%22%3A%22%2Cd-_-R%22%2C%22eid%22%3A%22ARCUwKHs-Qq2JtbS0jUZMwmykgQ2gI18N9vC66IW_-K6hd9ED3UjlghcOSl6XoS2_P837thvEbNP5eYk%22%2C%22fref%22%3A%22gm%22%2C%22directed_target_id%22%3A322855534791779%2C%22dti%22%3A322855534791779%2C%22hc_location%22%3A%22group%22%7D\" data-hovercard-prefer-more-content-show=\"1\" role=\"button\"><img class=\"_s0 _4ooo img\" src=\"https://scontent-cdg2-1.xx.fbcdn.net/v/t1.0-1/cp0/p74x74/1463193_1374431669478233_472501500_n.jpg?_nc_cat=111&amp;_nc_sid=dbb9e7&amp;_nc_oc=AQk_Q7eXE6H9rUOB6NqM3yQlUk0UjxK59dODkIAyaYMSc9ct-RqOgUXrFy-HJ-fEinhFfcPiUchUQ4IWTp8QFEgX&amp;_nc_ht=scontent-cdg2-1.xx&amp;oh=c532c6976d2c3046c4f10ce4b1b0ab24&amp;oe=5E9ABE28\" alt=\"\" aria-label=\"Gauthier Buttez\" role=\"img\" style=\"width:72px;height:72px\"/></a>\n",
            "        \n",
            "<a class=\"_60rg _8o _8r lfloat _ohe\" ajaxify=\"/groups/member/?group_id=322855534791779&amp;member_id=1074327337&amp;ref=MEMBER_LIST\" rel=\"dialog\" title=\"Anne Gerard\" tabindex=\"-1\" aria-hidden=\"true\" href=\"https://www.facebook.com/anne.gerard.509?fref=gm&amp;__tn__=%2Cd-_-R&amp;eid=ARBlthApZpIbYuLaIGXgI0WMs8LxCY5PCxdVea2pACMyjLIGES3WP8nKOT9pmlEffN6Pm59LS9Tn-0w_&amp;dti=322855534791779&amp;hc_location=group\" data-hovercard=\"/ajax/hovercard/user.php?id=1074327337&amp;extragetparams=%7B%22__tn__%22%3A%22%2Cd-_-R%22%2C%22eid%22%3A%22ARBlthApZpIbYuLaIGXgI0WMs8LxCY5PCxdVea2pACMyjLIGES3WP8nKOT9pmlEffN6Pm59LS9Tn-0w_%22%2C%22fref%22%3A%22gm%22%2C%22directed_target_id%22%3A322855534791779%2C%22dti%22%3A322855534791779%2C%22hc_location%22%3A%22group%22%7D\" data-hovercard-prefer-more-content-show=\"1\" role=\"button\"><img class=\"_s0 _4ooo img\" src=\"https://scontent-cdg2-1.xx.fbcdn.net/v/t1.0-1/cp0/p74x74/14938135_10208952506424602_3268600916298292512_n.jpg?_nc_cat=100&amp;_nc_sid=dbb9e7&amp;_nc_oc=AQkgOkcgfASV0YXryLa2twm-3SMm6G7yNSY3wLqJZpWz1vQ90AGpfQ3jyX_-qlC4Kz4TYs35A-OYdiI3TBOizdWo&amp;_nc_ht=scontent-cdg2-1.xx&amp;oh=dfbf772d5d4987adb6f3512d5a67063d&amp;oe=5E9A06BA\" alt=\"\" aria-label=\"Anne Gerard\" role=\"img\" style=\"width:72px;height:72px\"/></a>\n",
            "        \n",
            "<a class=\"_60rg _8o _8r lfloat _ohe\" ajaxify=\"/groups/member/?group_id=322855534791779&amp;member_id=100000074557033&amp;ref=MEMBER_LIST\" rel=\"dialog\" title=\"Armen Yeritsyan\" tabindex=\"-1\" aria-hidden=\"true\" href=\"https://www.facebook.com/armen.yeritsyan.5?fref=gm&amp;__tn__=%2Cd-_-R&amp;eid=ARBhLcp-sPcWnH5UuMuPBYl4vyFvyXbsDN-YEl2HVhbDrPoN_mzeInroPVdAIolAeWrSsl1Cf5aQ2cIu&amp;dti=322855534791779&amp;hc_location=group\" data-hovercard=\"/ajax/hovercard/user.php?id=100000074557033&amp;extragetparams=%7B%22__tn__%22%3A%22%2Cd-_-R%22%2C%22eid%22%3A%22ARBhLcp-sPcWnH5UuMuPBYl4vyFvyXbsDN-YEl2HVhbDrPoN_mzeInroPVdAIolAeWrSsl1Cf5aQ2cIu%22%2C%22fref%22%3A%22gm%22%2C%22directed_target_id%22%3A322855534791779%2C%22dti%22%3A322855534791779%2C%22hc_location%22%3A%22group%22%7D\" data-hovercard-prefer-more-content-show=\"1\" role=\"button\"><img class=\"_s0 _4ooo img\" src=\"https://scontent-cdg2-1.xx.fbcdn.net/v/t1.0-1/cp0/p74x74/13307316_1206945979317876_2877509441244132201_n.jpg?_nc_cat=100&amp;_nc_sid=dbb9e7&amp;_nc_oc=AQmKwXahXMv3NTMplSgST95yAOQ2IlzZqYtDXVYuCUF_vKic-GOzXVx4FJDFMqZg2eJ-dfUXoepGyovfaWPDnygf&amp;_nc_ht=scontent-cdg2-1.xx&amp;oh=4cbeff436efc5835e4af40547485d2b4&amp;oe=5E99948E\" alt=\"\" aria-label=\"Armen Yeritsyan\" role=\"img\" style=\"width:72px;height:72px\"/></a>\n",
            "        \n",
            "<a class=\"_60rg _8o _8r lfloat _ohe\" ajaxify=\"/groups/member/?group_id=322855534791779&amp;member_id=524650217&amp;ref=MEMBER_LIST\" rel=\"dialog\" title=\"Hichem Rouabhi\" tabindex=\"-1\" aria-hidden=\"true\" href=\"https://www.facebook.com/rouabhi.h?fref=gm&amp;__tn__=%2Cd-_-R&amp;eid=ARDPcEOFUsVE0bc59FuQ4_cvQZaTFZCuxmyFGenBB5K1gElEA0Me_qnfx-pmDCAGEOsSpRXz_iqfWt6S&amp;dti=322855534791779&amp;hc_location=group\" data-hovercard=\"/ajax/hovercard/user.php?id=524650217&amp;extragetparams=%7B%22__tn__%22%3A%22%2Cd-_-R%22%2C%22eid%22%3A%22ARDPcEOFUsVE0bc59FuQ4_cvQZaTFZCuxmyFGenBB5K1gElEA0Me_qnfx-pmDCAGEOsSpRXz_iqfWt6S%22%2C%22fref%22%3A%22gm%22%2C%22directed_target_id%22%3A322855534791779%2C%22dti%22%3A322855534791779%2C%22hc_location%22%3A%22group%22%7D\" data-hovercard-prefer-more-content-show=\"1\" role=\"button\"><img class=\"_s0 _4ooo img\" src=\"https://scontent-cdg2-1.xx.fbcdn.net/v/t1.0-1/cp0/p74x74/69970768_10157373361050218_8871102152131477504_n.jpg?_nc_cat=107&amp;_nc_sid=dbb9e7&amp;_nc_oc=AQnxKetk5Ka-XFdhbe2wjy4jUwDg473WIy7OHpoCPdmviV12TrsqjDwi3oXnmwmj6nHyvKvR6LL6qjDTwP5qCQdR&amp;_nc_ht=scontent-cdg2-1.xx&amp;oh=cd56d6b1c671abd63ae7d3eee3d8d998&amp;oe=5E9B7FFE\" alt=\"\" aria-label=\"Hichem Rouabhi\" role=\"img\" style=\"width:72px;height:72px\"/></a>\n",
            "        \n",
            "<a class=\"_60rg _8o _8r lfloat _ohe\" ajaxify=\"/groups/member/?group_id=322855534791779&amp;member_id=1270790984&amp;ref=MEMBER_LIST\" rel=\"dialog\" title=\"M&#xE9;lanie Almeida\" tabindex=\"-1\" aria-hidden=\"true\" href=\"https://www.facebook.com/melanie.almeida.98?fref=gm&amp;__tn__=%2Cd-_-R&amp;eid=ARAXNegH7RTpl3ZxJPNQhqUjG_bol5Mz88RbxMfbwu8iWwDfKIT5WdQEbKbS_9C9ZSYtYllE6M1sl1Ou&amp;dti=322855534791779&amp;hc_location=group\" data-hovercard=\"/ajax/hovercard/user.php?id=1270790984&amp;extragetparams=%7B%22__tn__%22%3A%22%2Cd-_-R%22%2C%22eid%22%3A%22ARAXNegH7RTpl3ZxJPNQhqUjG_bol5Mz88RbxMfbwu8iWwDfKIT5WdQEbKbS_9C9ZSYtYllE6M1sl1Ou%22%2C%22fref%22%3A%22gm%22%2C%22directed_target_id%22%3A322855534791779%2C%22dti%22%3A322855534791779%2C%22hc_location%22%3A%22group%22%7D\" data-hovercard-prefer-more-content-show=\"1\" role=\"button\"><img class=\"_s0 _4ooo img\" src=\"https://scontent-cdg2-1.xx.fbcdn.net/v/t1.0-1/cp0/c6.8.73.72a/p80x80/385589_3985454636033_1656637437_n.jpg?_nc_cat=104&amp;_nc_sid=dbb9e7&amp;_nc_oc=AQl-1q66ZCfZOHLCNqSkxUdIm3JQqVbDGFJXUjEljvIjcJaHe1g_rbj6RajjPX4Ne1G-zoT10CaUnOK5hLaZdIK6&amp;_nc_ht=scontent-cdg2-1.xx&amp;oh=6fcd92bc0077d3b068c10034e2ead706&amp;oe=5E98A2EA\" alt=\"\" aria-label=\"Mélanie Almeida\" role=\"img\" style=\"width:72px;height:72px\"/></a>\n",
            "        \n",
            "<a class=\"_60rg _8o _8r lfloat _ohe\" ajaxify=\"/groups/member/?group_id=322855534791779&amp;member_id=100000686692885&amp;ref=MEMBER_LIST\" rel=\"dialog\" title=\"Camille Mathis\" tabindex=\"-1\" aria-hidden=\"true\" href=\"https://www.facebook.com/camille.mathis2?fref=gm&amp;__tn__=%2Cd-_-R&amp;eid=ARA9j7P8THi3198v-SNLCe_Z6p0Clk4MYmeQwjbkvO1ftlaNJq6y5KieRvfCWDesKIaNJq8oNQD5T2Ur&amp;dti=322855534791779&amp;hc_location=group\" data-hovercard=\"/ajax/hovercard/user.php?id=100000686692885&amp;extragetparams=%7B%22__tn__%22%3A%22%2Cd-_-R%22%2C%22eid%22%3A%22ARA9j7P8THi3198v-SNLCe_Z6p0Clk4MYmeQwjbkvO1ftlaNJq6y5KieRvfCWDesKIaNJq8oNQD5T2Ur%22%2C%22fref%22%3A%22gm%22%2C%22directed_target_id%22%3A322855534791779%2C%22dti%22%3A322855534791779%2C%22hc_location%22%3A%22group%22%7D\" data-hovercard-prefer-more-content-show=\"1\" role=\"button\"><img class=\"_s0 _4ooo img\" src=\"https://scontent-cdg2-1.xx.fbcdn.net/v/t1.0-1/cp0/p74x74/68507591_2640511429315054_4738254916479352832_n.jpg?_nc_cat=100&amp;_nc_sid=dbb9e7&amp;_nc_oc=AQnQZMQdvvgX5DitfxFkClsQ7Py6mmuQGhmXj4J9Ba6c5TitRDdaHUFavbCIE3CRxPG06ELnzKBnJlRmdZ_KrEvf&amp;_nc_ht=scontent-cdg2-1.xx&amp;oh=1539cf54c1042dc16c810d31d85a903a&amp;oe=5E9BEAE1\" alt=\"\" aria-label=\"Camille Mathis\" role=\"img\" style=\"width:72px;height:72px\"/></a>\n",
            "        \n",
            "<a class=\"_60rg _8o _8r lfloat _ohe\" ajaxify=\"/groups/member/?group_id=322855534791779&amp;member_id=1325481810&amp;ref=MEMBER_LIST\" rel=\"dialog\" title=\"Iris de Villars\" tabindex=\"-1\" aria-hidden=\"true\" href=\"https://www.facebook.com/iris.devlrs?fref=gm&amp;__tn__=%2Cd-_-R&amp;eid=ARDwACP9h68J0XGENtgEkADbgrMnz6_qowVNrzgab_BqXV6pK5v0n5K0qfqASQKZ5apLgifvrybzDi9u&amp;dti=322855534791779&amp;hc_location=group\" data-hovercard=\"/ajax/hovercard/user.php?id=1325481810&amp;extragetparams=%7B%22__tn__%22%3A%22%2Cd-_-R%22%2C%22eid%22%3A%22ARDwACP9h68J0XGENtgEkADbgrMnz6_qowVNrzgab_BqXV6pK5v0n5K0qfqASQKZ5apLgifvrybzDi9u%22%2C%22fref%22%3A%22gm%22%2C%22directed_target_id%22%3A322855534791779%2C%22dti%22%3A322855534791779%2C%22hc_location%22%3A%22group%22%7D\" data-hovercard-prefer-more-content-show=\"1\" role=\"button\"><img class=\"_s0 _4ooo img\" src=\"https://scontent-cdg2-1.xx.fbcdn.net/v/t1.0-1/cp0/p74x74/20914378_10213866919730235_7685644193571725251_n.jpg?_nc_cat=109&amp;_nc_sid=dbb9e7&amp;_nc_oc=AQlI-dDAZoWe8wdOLQ-VC2ubg2Cmw3LCLl70Ffkdek7eULVR3Ecma4kxJKPXhww530XXL-yforJB-rK_GtvpaB5v&amp;_nc_ht=scontent-cdg2-1.xx&amp;oh=7d714d4d44aaf8a4d008c90431c8f43f&amp;oe=5E9A9B73\" alt=\"\" aria-label=\"Iris de Villars\" role=\"img\" style=\"width:72px;height:72px\"/></a>\n",
            "        \n",
            "<a class=\"_60rg _8o _8r lfloat _ohe\" ajaxify=\"/groups/member/?group_id=322855534791779&amp;member_id=100003027250156&amp;ref=MEMBER_LIST\" rel=\"dialog\" title=\"Yoro Bee\" tabindex=\"-1\" aria-hidden=\"true\" href=\"https://www.facebook.com/YojeDsign?fref=gm&amp;__tn__=%2Cd-_-R&amp;eid=ARBr9KmF-Vq2ucATSnk2yG2qRLA1E1YrdM_NHrYmiDN9oVwE-MlrAI6z8HNKWm1HljF8XvXWSf3eAYIe&amp;dti=322855534791779&amp;hc_location=group\" data-hovercard=\"/ajax/hovercard/user.php?id=100003027250156&amp;extragetparams=%7B%22__tn__%22%3A%22%2Cd-_-R%22%2C%22eid%22%3A%22ARBr9KmF-Vq2ucATSnk2yG2qRLA1E1YrdM_NHrYmiDN9oVwE-MlrAI6z8HNKWm1HljF8XvXWSf3eAYIe%22%2C%22fref%22%3A%22gm%22%2C%22directed_target_id%22%3A322855534791779%2C%22dti%22%3A322855534791779%2C%22hc_location%22%3A%22group%22%7D\" data-hovercard-prefer-more-content-show=\"1\" role=\"button\"><img class=\"_s0 _4ooo img\" src=\"https://scontent-cdg2-1.xx.fbcdn.net/v/t1.0-1/cp0/p74x74/72371142_2280343822076504_8586613959509934080_n.jpg?_nc_cat=110&amp;_nc_sid=dbb9e7&amp;_nc_oc=AQmQ_AnyR6xev6zkBPO890e995E42urALjgQyNihLDrYCXTohXFdIuVChFUA1WWZq7sGeqiZ6IpNPk4rJH0F9vaJ&amp;_nc_ht=scontent-cdg2-1.xx&amp;oh=74b3c39c42a07b4a9cd449719a3e4cec&amp;oe=5E9B04B6\" alt=\"\" aria-label=\"Yoro Bee\" role=\"img\" style=\"width:72px;height:72px\"/></a>\n",
            "        \n"
          ],
          "name": "stdout"
        }
      ]
    },
    {
      "cell_type": "markdown",
      "metadata": {
        "id": "EAtDM-etFzjF",
        "colab_type": "text"
      },
      "source": [
        "Test avec l'attribut ajaxify"
      ]
    },
    {
      "cell_type": "code",
      "metadata": {
        "id": "4QoVjOdf8egW",
        "colab_type": "code",
        "outputId": "af994d40-45a1-4a4b-bb71-fcbd7c5eb96d",
        "colab": {
          "base_uri": "https://localhost:8080/",
          "height": 272
        }
      },
      "source": [
        "for i in d.items(\"a._ohe\"):\n",
        "  print(i.attr[\"ajaxify\"])"
      ],
      "execution_count": 0,
      "outputs": [
        {
          "output_type": "stream",
          "text": [
            "/groups/member/?group_id=322855534791779&member_id=100004497343792&ref=MEMBER_LIST\n",
            "/groups/member/?group_id=322855534791779&member_id=100024900753255&ref=MEMBER_LIST\n",
            "/groups/member/?group_id=322855534791779&member_id=100020299845509&ref=MEMBER_LIST\n",
            "/groups/member/?group_id=322855534791779&member_id=684259739&ref=MEMBER_LIST\n",
            "/groups/member/?group_id=322855534791779&member_id=100001410897754&ref=MEMBER_LIST\n",
            "/groups/member/?group_id=322855534791779&member_id=679030123&ref=MEMBER_LIST\n",
            "/groups/member/?group_id=322855534791779&member_id=100009396594031&ref=MEMBER_LIST\n",
            "/groups/member/?group_id=322855534791779&member_id=100007342380545&ref=MEMBER_LIST\n",
            "/groups/member/?group_id=322855534791779&member_id=1074327337&ref=MEMBER_LIST\n",
            "/groups/member/?group_id=322855534791779&member_id=100000074557033&ref=MEMBER_LIST\n",
            "/groups/member/?group_id=322855534791779&member_id=524650217&ref=MEMBER_LIST\n",
            "/groups/member/?group_id=322855534791779&member_id=1270790984&ref=MEMBER_LIST\n",
            "/groups/member/?group_id=322855534791779&member_id=100000686692885&ref=MEMBER_LIST\n",
            "/groups/member/?group_id=322855534791779&member_id=1325481810&ref=MEMBER_LIST\n",
            "/groups/member/?group_id=322855534791779&member_id=100003027250156&ref=MEMBER_LIST\n"
          ],
          "name": "stdout"
        }
      ]
    },
    {
      "cell_type": "code",
      "metadata": {
        "id": "fqDnxRocFyF2",
        "colab_type": "code",
        "outputId": "0fa8d86e-02fa-4210-b46c-6530b72b0536",
        "colab": {
          "base_uri": "https://localhost:8080/",
          "height": 292
        }
      },
      "source": [
        "for i in d.items(\"a._ohe\"):\n",
        "  print(i.attr[\"ajaxify\"], i.attr[\"href\"], i.attr[\"title\"])"
      ],
      "execution_count": 0,
      "outputs": [
        {
          "output_type": "stream",
          "text": [
            "/groups/member/?group_id=322855534791779&member_id=100004497343792&ref=MEMBER_LIST https://www.facebook.com/mikael.monjour?fref=gm&__tn__=%2Cd-_-R&eid=ARCeQhUgWuS-cHfGsfyXoyQnlA1b_rFz1opgRN1XfoxTKWRY8VTskQDSIjXY3163vNF4ve4PcV0XqGqu&dti=322855534791779&hc_location=group Mikaël Monjour\n",
            "/groups/member/?group_id=322855534791779&member_id=100024900753255&ref=MEMBER_LIST https://www.facebook.com/fabien.david.37017?fref=gm&__tn__=%2Cd-_-R&eid=ARDUn-2oj-n7DBtJm1uCwWKum5fEuFoOFCCyiZGf9dlP6UuABbDvAFSvMZihjH1lFfbbwqPs_6EwdX-_&dti=322855534791779&hc_location=group Fabien David\n",
            "/groups/member/?group_id=322855534791779&member_id=100020299845509&ref=MEMBER_LIST https://www.facebook.com/VictorLebodapro?fref=gm&__tn__=%2Cd-_-R&eid=ARDpcDf2T8Q2HiKdPiIFBXKpedx8inigSLPc86FOmCPU-DwIjSj6ko96herWVZLP750cXsKYt0WCLGuN&dti=322855534791779&hc_location=group Victor Leboda\n",
            "/groups/member/?group_id=322855534791779&member_id=684259739&ref=MEMBER_LIST https://www.facebook.com/paul.daura.7?fref=gm&__tn__=%2Cd-_-R&eid=ARDN1Rt8I56I8BCdlBsUEnvI2DE1rulPdlXML9Ujkb6e1VnwxyqGo5bx_bSx0XD4jWmY1q1PrQebIvqS&dti=322855534791779&hc_location=group Paul D'aura\n",
            "/groups/member/?group_id=322855534791779&member_id=100001410897754&ref=MEMBER_LIST https://www.facebook.com/pabloguiraoperso?fref=gm&__tn__=%2Cd-_-R&eid=ARBnU_DaxYhhg25RXdZb_BXrDvMfT2wPe3IqT5k-QbxLqOnZoD_msWKuL_lpH19zzXjq7Beea6MbM4ls&dti=322855534791779&hc_location=group Pablo Guirao\n",
            "/groups/member/?group_id=322855534791779&member_id=679030123&ref=MEMBER_LIST https://www.facebook.com/raphael753?fref=gm&__tn__=%2Cd-_-R&eid=ARAYYwISJ9swkSkgj_c5uVBkT0ewVdxRPsqHptL4R99iP-T0LfLPcZoHzuTQUpkTq35WMz1pprHO10lr&dti=322855534791779&hc_location=group Raph Az\n",
            "/groups/member/?group_id=322855534791779&member_id=100009396594031&ref=MEMBER_LIST https://www.facebook.com/growthhackingguru?fref=gm&__tn__=%2Cd-_-R&eid=ARAPCGHMV2OhjlBEr_hi-QV0bp5x__U1POntyufrz-ZG53S21EpP7Vas1jsprR-zr_BYP4PCAvuvWJdH&dti=322855534791779&hc_location=group Growth Hacking\n",
            "/groups/member/?group_id=322855534791779&member_id=100007342380545&ref=MEMBER_LIST https://www.facebook.com/gauthier.buttez?fref=gm&__tn__=%2Cd-_-R&eid=ARCUwKHs-Qq2JtbS0jUZMwmykgQ2gI18N9vC66IW_-K6hd9ED3UjlghcOSl6XoS2_P837thvEbNP5eYk&dti=322855534791779&hc_location=group Gauthier Buttez\n",
            "/groups/member/?group_id=322855534791779&member_id=1074327337&ref=MEMBER_LIST https://www.facebook.com/anne.gerard.509?fref=gm&__tn__=%2Cd-_-R&eid=ARBlthApZpIbYuLaIGXgI0WMs8LxCY5PCxdVea2pACMyjLIGES3WP8nKOT9pmlEffN6Pm59LS9Tn-0w_&dti=322855534791779&hc_location=group Anne Gerard\n",
            "/groups/member/?group_id=322855534791779&member_id=100000074557033&ref=MEMBER_LIST https://www.facebook.com/armen.yeritsyan.5?fref=gm&__tn__=%2Cd-_-R&eid=ARBhLcp-sPcWnH5UuMuPBYl4vyFvyXbsDN-YEl2HVhbDrPoN_mzeInroPVdAIolAeWrSsl1Cf5aQ2cIu&dti=322855534791779&hc_location=group Armen Yeritsyan\n",
            "/groups/member/?group_id=322855534791779&member_id=524650217&ref=MEMBER_LIST https://www.facebook.com/rouabhi.h?fref=gm&__tn__=%2Cd-_-R&eid=ARDPcEOFUsVE0bc59FuQ4_cvQZaTFZCuxmyFGenBB5K1gElEA0Me_qnfx-pmDCAGEOsSpRXz_iqfWt6S&dti=322855534791779&hc_location=group Hichem Rouabhi\n",
            "/groups/member/?group_id=322855534791779&member_id=1270790984&ref=MEMBER_LIST https://www.facebook.com/melanie.almeida.98?fref=gm&__tn__=%2Cd-_-R&eid=ARAXNegH7RTpl3ZxJPNQhqUjG_bol5Mz88RbxMfbwu8iWwDfKIT5WdQEbKbS_9C9ZSYtYllE6M1sl1Ou&dti=322855534791779&hc_location=group Mélanie Almeida\n",
            "/groups/member/?group_id=322855534791779&member_id=100000686692885&ref=MEMBER_LIST https://www.facebook.com/camille.mathis2?fref=gm&__tn__=%2Cd-_-R&eid=ARA9j7P8THi3198v-SNLCe_Z6p0Clk4MYmeQwjbkvO1ftlaNJq6y5KieRvfCWDesKIaNJq8oNQD5T2Ur&dti=322855534791779&hc_location=group Camille Mathis\n",
            "/groups/member/?group_id=322855534791779&member_id=1325481810&ref=MEMBER_LIST https://www.facebook.com/iris.devlrs?fref=gm&__tn__=%2Cd-_-R&eid=ARDwACP9h68J0XGENtgEkADbgrMnz6_qowVNrzgab_BqXV6pK5v0n5K0qfqASQKZ5apLgifvrybzDi9u&dti=322855534791779&hc_location=group Iris de Villars\n",
            "/groups/member/?group_id=322855534791779&member_id=100003027250156&ref=MEMBER_LIST https://www.facebook.com/YojeDsign?fref=gm&__tn__=%2Cd-_-R&eid=ARBr9KmF-Vq2ucATSnk2yG2qRLA1E1YrdM_NHrYmiDN9oVwE-MlrAI6z8HNKWm1HljF8XvXWSf3eAYIe&dti=322855534791779&hc_location=group Yoro Bee\n"
          ],
          "name": "stdout"
        }
      ]
    },
    {
      "cell_type": "markdown",
      "metadata": {
        "id": "TE6xI_jQXlst",
        "colab_type": "text"
      },
      "source": [
        "# 8 - INSTALLER PANDAS ET REGEX POURS METTRE EN DATAFRAME"
      ]
    },
    {
      "cell_type": "code",
      "metadata": {
        "id": "P5jNBU_WGSsY",
        "colab_type": "code",
        "colab": {}
      },
      "source": [
        "import pandas as pd\n",
        "import re"
      ],
      "execution_count": 0,
      "outputs": []
    },
    {
      "cell_type": "code",
      "metadata": {
        "id": "lui58J0PG9Gi",
        "colab_type": "code",
        "outputId": "334e797b-9ed0-4e46-d6ed-50b507fa88b2",
        "colab": {
          "base_uri": "https://localhost:8080/",
          "height": 54
        }
      },
      "source": [
        "personnes = []\n",
        "for i in d.items(\"a._ohe\"):\n",
        "  dictionnaire = {}\n",
        "\n",
        "  uid_group = re.search(r'(?<=group_id\\=)\\d+', i.attr[\"ajaxify\"])\n",
        "  dictionnaire[\"ID_GROUP\"] = uid_group.group()\n",
        "\n",
        "  uid_person = re.search(r'(?<=member_id\\=)\\d+', i.attr[\"ajaxify\"])\n",
        "  dictionnaire[\"ID_PERSON\"] = uid_person.group()\n",
        "\n",
        "  url_person = re.search(r'https:\\/\\/www\\.facebook\\.com\\/\\S+(?=\\?)', i.attr[\"href\"])\n",
        "  dictionnaire[\"url_person\"] = url_person.group()\n",
        "\n",
        "  nom_prenom = i.attr[\"title\"]\n",
        "  dictionnaire[\"NOM_ET_PRENOM\"] = nom_prenom\n",
        "\n",
        "  recherche = re.search(r'(\\S+)\\s(.+)', nom_prenom)\n",
        "\n",
        "  dictionnaire[\"Prenom\"] = recherche.group(1)\n",
        "  dictionnaire[\"Nom\"] = recherche.group(2)\n",
        "\n",
        "  personnes.append(dictionnaire)\n",
        "\n",
        "print(personnes)"
      ],
      "execution_count": 0,
      "outputs": [
        {
          "output_type": "stream",
          "text": [
            "[{'ID_GROUP': '322855534791779', 'ID_PERSON': '100004497343792', 'url_person': 'https://www.facebook.com/mikael.monjour', 'NOM_ET_PRENOM': 'Mikaël Monjour', 'Prenom': 'Mikaël', 'Nom': 'Monjour'}, {'ID_GROUP': '322855534791779', 'ID_PERSON': '100024900753255', 'url_person': 'https://www.facebook.com/fabien.david.37017', 'NOM_ET_PRENOM': 'Fabien David', 'Prenom': 'Fabien', 'Nom': 'David'}, {'ID_GROUP': '322855534791779', 'ID_PERSON': '100020299845509', 'url_person': 'https://www.facebook.com/VictorLebodapro', 'NOM_ET_PRENOM': 'Victor Leboda', 'Prenom': 'Victor', 'Nom': 'Leboda'}, {'ID_GROUP': '322855534791779', 'ID_PERSON': '684259739', 'url_person': 'https://www.facebook.com/paul.daura.7', 'NOM_ET_PRENOM': \"Paul D'aura\", 'Prenom': 'Paul', 'Nom': \"D'aura\"}, {'ID_GROUP': '322855534791779', 'ID_PERSON': '100001410897754', 'url_person': 'https://www.facebook.com/pabloguiraoperso', 'NOM_ET_PRENOM': 'Pablo Guirao', 'Prenom': 'Pablo', 'Nom': 'Guirao'}, {'ID_GROUP': '322855534791779', 'ID_PERSON': '679030123', 'url_person': 'https://www.facebook.com/raphael753', 'NOM_ET_PRENOM': 'Raph Az', 'Prenom': 'Raph', 'Nom': 'Az'}, {'ID_GROUP': '322855534791779', 'ID_PERSON': '100009396594031', 'url_person': 'https://www.facebook.com/growthhackingguru', 'NOM_ET_PRENOM': 'Growth Hacking', 'Prenom': 'Growth', 'Nom': 'Hacking'}, {'ID_GROUP': '322855534791779', 'ID_PERSON': '100007342380545', 'url_person': 'https://www.facebook.com/gauthier.buttez', 'NOM_ET_PRENOM': 'Gauthier Buttez', 'Prenom': 'Gauthier', 'Nom': 'Buttez'}, {'ID_GROUP': '322855534791779', 'ID_PERSON': '1074327337', 'url_person': 'https://www.facebook.com/anne.gerard.509', 'NOM_ET_PRENOM': 'Anne Gerard', 'Prenom': 'Anne', 'Nom': 'Gerard'}, {'ID_GROUP': '322855534791779', 'ID_PERSON': '100000074557033', 'url_person': 'https://www.facebook.com/armen.yeritsyan.5', 'NOM_ET_PRENOM': 'Armen Yeritsyan', 'Prenom': 'Armen', 'Nom': 'Yeritsyan'}, {'ID_GROUP': '322855534791779', 'ID_PERSON': '524650217', 'url_person': 'https://www.facebook.com/rouabhi.h', 'NOM_ET_PRENOM': 'Hichem Rouabhi', 'Prenom': 'Hichem', 'Nom': 'Rouabhi'}, {'ID_GROUP': '322855534791779', 'ID_PERSON': '1270790984', 'url_person': 'https://www.facebook.com/melanie.almeida.98', 'NOM_ET_PRENOM': 'Mélanie Almeida', 'Prenom': 'Mélanie', 'Nom': 'Almeida'}, {'ID_GROUP': '322855534791779', 'ID_PERSON': '100000686692885', 'url_person': 'https://www.facebook.com/camille.mathis2', 'NOM_ET_PRENOM': 'Camille Mathis', 'Prenom': 'Camille', 'Nom': 'Mathis'}, {'ID_GROUP': '322855534791779', 'ID_PERSON': '1325481810', 'url_person': 'https://www.facebook.com/iris.devlrs', 'NOM_ET_PRENOM': 'Iris de Villars', 'Prenom': 'Iris', 'Nom': 'de Villars'}, {'ID_GROUP': '322855534791779', 'ID_PERSON': '100003027250156', 'url_person': 'https://www.facebook.com/YojeDsign', 'NOM_ET_PRENOM': 'Yoro Bee', 'Prenom': 'Yoro', 'Nom': 'Bee'}]\n"
          ],
          "name": "stdout"
        }
      ]
    },
    {
      "cell_type": "code",
      "metadata": {
        "id": "ouw9dcSnLPoy",
        "colab_type": "code",
        "colab": {}
      },
      "source": [
        "df = pd.DataFrame(personnes)"
      ],
      "execution_count": 0,
      "outputs": []
    },
    {
      "cell_type": "code",
      "metadata": {
        "id": "cb0276XaMvuc",
        "colab_type": "code",
        "outputId": "8b20dbf2-add7-41d8-daaa-e6f1e806a941",
        "colab": {
          "base_uri": "https://localhost:8080/",
          "height": 514
        }
      },
      "source": [
        "df"
      ],
      "execution_count": 0,
      "outputs": [
        {
          "output_type": "execute_result",
          "data": {
            "text/html": [
              "<div>\n",
              "<style scoped>\n",
              "    .dataframe tbody tr th:only-of-type {\n",
              "        vertical-align: middle;\n",
              "    }\n",
              "\n",
              "    .dataframe tbody tr th {\n",
              "        vertical-align: top;\n",
              "    }\n",
              "\n",
              "    .dataframe thead th {\n",
              "        text-align: right;\n",
              "    }\n",
              "</style>\n",
              "<table border=\"1\" class=\"dataframe\">\n",
              "  <thead>\n",
              "    <tr style=\"text-align: right;\">\n",
              "      <th></th>\n",
              "      <th>ID_GROUP</th>\n",
              "      <th>ID_PERSON</th>\n",
              "      <th>url_person</th>\n",
              "      <th>NOM_ET_PRENOM</th>\n",
              "      <th>Prenom</th>\n",
              "      <th>Nom</th>\n",
              "    </tr>\n",
              "  </thead>\n",
              "  <tbody>\n",
              "    <tr>\n",
              "      <th>0</th>\n",
              "      <td>322855534791779</td>\n",
              "      <td>100004497343792</td>\n",
              "      <td>https://www.facebook.com/mikael.monjour</td>\n",
              "      <td>Mikaël Monjour</td>\n",
              "      <td>Mikaël</td>\n",
              "      <td>Monjour</td>\n",
              "    </tr>\n",
              "    <tr>\n",
              "      <th>1</th>\n",
              "      <td>322855534791779</td>\n",
              "      <td>100024900753255</td>\n",
              "      <td>https://www.facebook.com/fabien.david.37017</td>\n",
              "      <td>Fabien David</td>\n",
              "      <td>Fabien</td>\n",
              "      <td>David</td>\n",
              "    </tr>\n",
              "    <tr>\n",
              "      <th>2</th>\n",
              "      <td>322855534791779</td>\n",
              "      <td>100020299845509</td>\n",
              "      <td>https://www.facebook.com/VictorLebodapro</td>\n",
              "      <td>Victor Leboda</td>\n",
              "      <td>Victor</td>\n",
              "      <td>Leboda</td>\n",
              "    </tr>\n",
              "    <tr>\n",
              "      <th>3</th>\n",
              "      <td>322855534791779</td>\n",
              "      <td>684259739</td>\n",
              "      <td>https://www.facebook.com/paul.daura.7</td>\n",
              "      <td>Paul D'aura</td>\n",
              "      <td>Paul</td>\n",
              "      <td>D'aura</td>\n",
              "    </tr>\n",
              "    <tr>\n",
              "      <th>4</th>\n",
              "      <td>322855534791779</td>\n",
              "      <td>100001410897754</td>\n",
              "      <td>https://www.facebook.com/pabloguiraoperso</td>\n",
              "      <td>Pablo Guirao</td>\n",
              "      <td>Pablo</td>\n",
              "      <td>Guirao</td>\n",
              "    </tr>\n",
              "    <tr>\n",
              "      <th>5</th>\n",
              "      <td>322855534791779</td>\n",
              "      <td>679030123</td>\n",
              "      <td>https://www.facebook.com/raphael753</td>\n",
              "      <td>Raph Az</td>\n",
              "      <td>Raph</td>\n",
              "      <td>Az</td>\n",
              "    </tr>\n",
              "    <tr>\n",
              "      <th>6</th>\n",
              "      <td>322855534791779</td>\n",
              "      <td>100009396594031</td>\n",
              "      <td>https://www.facebook.com/growthhackingguru</td>\n",
              "      <td>Growth Hacking</td>\n",
              "      <td>Growth</td>\n",
              "      <td>Hacking</td>\n",
              "    </tr>\n",
              "    <tr>\n",
              "      <th>7</th>\n",
              "      <td>322855534791779</td>\n",
              "      <td>100007342380545</td>\n",
              "      <td>https://www.facebook.com/gauthier.buttez</td>\n",
              "      <td>Gauthier Buttez</td>\n",
              "      <td>Gauthier</td>\n",
              "      <td>Buttez</td>\n",
              "    </tr>\n",
              "    <tr>\n",
              "      <th>8</th>\n",
              "      <td>322855534791779</td>\n",
              "      <td>1074327337</td>\n",
              "      <td>https://www.facebook.com/anne.gerard.509</td>\n",
              "      <td>Anne Gerard</td>\n",
              "      <td>Anne</td>\n",
              "      <td>Gerard</td>\n",
              "    </tr>\n",
              "    <tr>\n",
              "      <th>9</th>\n",
              "      <td>322855534791779</td>\n",
              "      <td>100000074557033</td>\n",
              "      <td>https://www.facebook.com/armen.yeritsyan.5</td>\n",
              "      <td>Armen Yeritsyan</td>\n",
              "      <td>Armen</td>\n",
              "      <td>Yeritsyan</td>\n",
              "    </tr>\n",
              "    <tr>\n",
              "      <th>10</th>\n",
              "      <td>322855534791779</td>\n",
              "      <td>524650217</td>\n",
              "      <td>https://www.facebook.com/rouabhi.h</td>\n",
              "      <td>Hichem Rouabhi</td>\n",
              "      <td>Hichem</td>\n",
              "      <td>Rouabhi</td>\n",
              "    </tr>\n",
              "    <tr>\n",
              "      <th>11</th>\n",
              "      <td>322855534791779</td>\n",
              "      <td>1270790984</td>\n",
              "      <td>https://www.facebook.com/melanie.almeida.98</td>\n",
              "      <td>Mélanie Almeida</td>\n",
              "      <td>Mélanie</td>\n",
              "      <td>Almeida</td>\n",
              "    </tr>\n",
              "    <tr>\n",
              "      <th>12</th>\n",
              "      <td>322855534791779</td>\n",
              "      <td>100000686692885</td>\n",
              "      <td>https://www.facebook.com/camille.mathis2</td>\n",
              "      <td>Camille Mathis</td>\n",
              "      <td>Camille</td>\n",
              "      <td>Mathis</td>\n",
              "    </tr>\n",
              "    <tr>\n",
              "      <th>13</th>\n",
              "      <td>322855534791779</td>\n",
              "      <td>1325481810</td>\n",
              "      <td>https://www.facebook.com/iris.devlrs</td>\n",
              "      <td>Iris de Villars</td>\n",
              "      <td>Iris</td>\n",
              "      <td>de Villars</td>\n",
              "    </tr>\n",
              "    <tr>\n",
              "      <th>14</th>\n",
              "      <td>322855534791779</td>\n",
              "      <td>100003027250156</td>\n",
              "      <td>https://www.facebook.com/YojeDsign</td>\n",
              "      <td>Yoro Bee</td>\n",
              "      <td>Yoro</td>\n",
              "      <td>Bee</td>\n",
              "    </tr>\n",
              "  </tbody>\n",
              "</table>\n",
              "</div>"
            ],
            "text/plain": [
              "           ID_GROUP        ID_PERSON  ...    Prenom         Nom\n",
              "0   322855534791779  100004497343792  ...    Mikaël     Monjour\n",
              "1   322855534791779  100024900753255  ...    Fabien       David\n",
              "2   322855534791779  100020299845509  ...    Victor      Leboda\n",
              "3   322855534791779        684259739  ...      Paul      D'aura\n",
              "4   322855534791779  100001410897754  ...     Pablo      Guirao\n",
              "5   322855534791779        679030123  ...      Raph          Az\n",
              "6   322855534791779  100009396594031  ...    Growth     Hacking\n",
              "7   322855534791779  100007342380545  ...  Gauthier      Buttez\n",
              "8   322855534791779       1074327337  ...      Anne      Gerard\n",
              "9   322855534791779  100000074557033  ...     Armen   Yeritsyan\n",
              "10  322855534791779        524650217  ...    Hichem     Rouabhi\n",
              "11  322855534791779       1270790984  ...   Mélanie     Almeida\n",
              "12  322855534791779  100000686692885  ...   Camille      Mathis\n",
              "13  322855534791779       1325481810  ...      Iris  de Villars\n",
              "14  322855534791779  100003027250156  ...      Yoro         Bee\n",
              "\n",
              "[15 rows x 6 columns]"
            ]
          },
          "metadata": {
            "tags": []
          },
          "execution_count": 80
        }
      ]
    },
    {
      "cell_type": "markdown",
      "metadata": {
        "id": "3NZsd6j6X_Xm",
        "colab_type": "text"
      },
      "source": [
        "# 9 - ENREGISTRER EN CSV"
      ]
    },
    {
      "cell_type": "code",
      "metadata": {
        "id": "2lXzqOqUOUu6",
        "colab_type": "code",
        "colab": {}
      },
      "source": [
        "df.to_csv(\"data.csv\", sep=',', encoding='utf-8')"
      ],
      "execution_count": 0,
      "outputs": []
    },
    {
      "cell_type": "markdown",
      "metadata": {
        "id": "IX1SlVNuYKFq",
        "colab_type": "text"
      },
      "source": [
        "10 - TOUT EN UN"
      ]
    },
    {
      "cell_type": "code",
      "metadata": {
        "id": "VXJu8eHBbolr",
        "colab_type": "code",
        "colab": {}
      },
      "source": [
        "!pip install pyquery"
      ],
      "execution_count": 0,
      "outputs": []
    },
    {
      "cell_type": "code",
      "metadata": {
        "id": "pBx4YgRuYO9h",
        "colab_type": "code",
        "colab": {}
      },
      "source": [
        "import pandas as pd\n",
        "import re\n",
        "from pyquery import PyQuery as pq\n",
        "from google.colab import drive\n",
        "drive.mount(\"/content/gdrive\")"
      ],
      "execution_count": 0,
      "outputs": []
    },
    {
      "cell_type": "code",
      "metadata": {
        "id": "FljZmoHfYW9E",
        "colab_type": "code",
        "colab": {}
      },
      "source": [
        "cd gdrive"
      ],
      "execution_count": 0,
      "outputs": []
    },
    {
      "cell_type": "code",
      "metadata": {
        "id": "zD9Cs1HVYdF5",
        "colab_type": "code",
        "colab": {}
      },
      "source": [
        "cd My\\ Drive #ICI DOSSIER PRINCIPAL"
      ],
      "execution_count": 0,
      "outputs": []
    },
    {
      "cell_type": "code",
      "metadata": {
        "id": "ryhq-XMGYeil",
        "colab_type": "code",
        "colab": {}
      },
      "source": [
        "While True:\n",
        "  continuer = input(\"y/n\")\n",
        "  if continuer != \"n\":\n",
        "    html = input(\"Code html du groupe : \")\n",
        "    nom_du_groupe = input(\"Nom du groupe : \")\n",
        "\n",
        "    d = pq(html)\n",
        "    personnes = []\n",
        "\n",
        "    for i in d.items(\"a._ohe\"):\n",
        "      dictionnaire = {}\n",
        "\n",
        "      uid_group = re.search(r'(?<=group_id\\=)\\d+', i.attr[\"ajaxify\"])\n",
        "      dictionnaire[\"ID_GROUP\"] = uid_group.group()\n",
        "\n",
        "      uid_person = re.search(r'(?<=member_id\\=)\\d+', i.attr[\"ajaxify\"])\n",
        "      dictionnaire[\"ID_PERSON\"] = uid_person.group()\n",
        "\n",
        "      url_person = re.search(r'https:\\/\\/www\\.facebook\\.com\\/\\S+(?=\\?)', i.attr[\"href\"])\n",
        "      dictionnaire[\"url_person\"] = url_person.group()\n",
        "\n",
        "      nom_prenom = i.attr[\"title\"]\n",
        "      dictionnaire[\"NOM_ET_PRENOM\"] = nom_prenom\n",
        "\n",
        "      recherche = re.search(r'(\\S+)\\s(.+)', nom_prenom)\n",
        "\n",
        "      dictionnaire[\"Prenom\"] = recherche.group(1)\n",
        "      dictionnaire[\"Nom\"] = recherche.group(2)\n",
        "\n",
        "      personnes.append(dictionnaire)\n",
        "\n",
        "    print(personnes)\n",
        "    df.to_csv(\"data.csv\", sep=',', encoding='utf-8')\n",
        "  else:\n",
        "    break"
      ],
      "execution_count": 0,
      "outputs": []
    }
  ]
}